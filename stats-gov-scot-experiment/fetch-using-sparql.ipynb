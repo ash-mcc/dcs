{
 "cells": [
  {
   "cell_type": "markdown",
   "metadata": {},
   "source": [
    "# Try to fetch information from statistics.gov.scot using SPARQL\n",
    "\n",
    "[statistics.gov.scot](http://statistics.gov.scot) makes many useful datasets available as linked open data.\n",
    "\n",
    "Let's execute a [SPARL](https://www.w3.org/TR/sparql11-query/) query to retrive information about all of those datssets...\n"
   ]
  },
  {
   "cell_type": "code",
   "execution_count": 3,
   "metadata": {
    "init_cell": true
   },
   "outputs": [
    {
     "data": {
      "application/vnd.jupyter.widget-view+json": {
       "model_id": "",
       "version_major": 2,
       "version_minor": 0
      },
      "method": "display_data"
     },
     "metadata": {},
     "output_type": "display_data"
    },
    {
     "data": {
      "application/vnd.jupyter.widget-view+json": {
       "model_id": "",
       "version_major": 2,
       "version_minor": 0
      },
      "method": "display_data"
     },
     "metadata": {},
     "output_type": "display_data"
    },
    {
     "data": {
      "text/plain": [
       "class com.twosigma.beakerx.chart.xychart.plotitem.Line"
      ]
     },
     "execution_count": 3,
     "metadata": {},
     "output_type": "execute_result"
    }
   ],
   "source": [
    "; Add code libraries \n",
    "\n",
    "%classpath add mvn org.clojure data.csv 1.0.0\n",
    "(require '[clojure.data.csv :as csv])\n",
    "\n",
    "%classpath add mvn clj-http clj-http 3.10.1\n",
    "(require '[clj-http.client :as http])\n",
    "\n",
    "(require '[clojure.string :as str])\n",
    "\n",
    "(import 'java.net.URLEncoder)\n",
    "(import 'java.time.LocalDate)\n",
    "(import 'com.twosigma.beakerx.chart.xychart.TimePlot\n",
    "        'com.twosigma.beakerx.chart.xychart.plotitem.Line)"
   ]
  },
  {
   "cell_type": "code",
   "execution_count": 4,
   "metadata": {
    "init_cell": true
   },
   "outputs": [
    {
     "data": {
      "text/plain": [
       "#'beaker_clojure_shell_e1d0e81c-5b57-4ec0-9039-260b35f4983a/exec-query"
      ]
     },
     "execution_count": 4,
     "metadata": {},
     "output_type": "execute_result"
    }
   ],
   "source": [
    "; Define convenience functions\n",
    "\n",
    "; Convert the CSV structure to a list-of-maps structure.\n",
    "(defn to-maps [csv-data]\n",
    "    (map zipmap (->> (first csv-data)\n",
    "                    (map keyword)\n",
    "                    repeat)\n",
    "                (rest csv-data)))\n",
    "\n",
    "; Ask statistic.gov.scot to execute the given SPARQL query\n",
    "; and return its result as a list-of-maps.\n",
    "(defn exec-query [sparql]\n",
    "    (->> (http/post \"http://statistics.gov.scot/sparql\" \n",
    "                    {:body (str \"query=\" (URLEncoder/encode sparql)) \n",
    "                    :headers {\"Accept\" \"text/csv\" \n",
    "                              \"Content-Type\" \"application/x-www-form-urlencoded\"} \n",
    "                    :debug false})\n",
    "        :body\n",
    "        csv/read-csv\n",
    "        to-maps))"
   ]
  },
  {
   "cell_type": "code",
   "execution_count": 5,
   "metadata": {
    "scrolled": false
   },
   "outputs": [
    {
     "data": {
      "text/plain": [
       "290 datasets"
      ]
     },
     "execution_count": 5,
     "metadata": {},
     "output_type": "execute_result"
    }
   ],
   "source": [
    "; Query for information about all the datasets\n",
    "\n",
    "(def sparql \"\n",
    "\n",
    "PREFIX dcterms: <http://purl.org/dc/terms/>\n",
    "PREFIX rdf: <http://www.w3.org/1999/02/22-rdf-syntax-ns#>\n",
    "PREFIX rdfs: <http://www.w3.org/2000/01/rdf-schema#>\n",
    "SELECT ?dataset ?name ?publisherLabel\n",
    "\n",
    "WHERE {\n",
    "    ?dataset rdf:type <http://publishmydata.com/def/dataset#Dataset>.\n",
    "    ?dataset rdfs:label ?name.\n",
    "    ?dataset dcterms:publisher ?publisher.\n",
    "\n",
    "    ?publisher rdfs:label ?publisherLabel.\n",
    "}\n",
    "\")\n",
    "\n",
    "(def all-datasets (exec-query sparql))\n",
    "\n",
    "(str (count all-datasets) \" datasets\")"
   ]
  },
  {
   "cell_type": "markdown",
   "metadata": {},
   "source": [
    "My [previous report](https://stir.sharepoint.com/:w:/r/sites/DataCommonsScotland/_layouts/15/Doc.aspx?sourcedoc=%7B5DD2D579-68D4-4C21-91CD-CCF6BE8BC276%7D&file=2020-04-16-progress-report-ash.docx&action=default&mobileredirect=true) used the Household Waste dataset from SEPA and the Population dataset from NRS.\n",
    "\n",
    "Let's find those two datasets in the statistics.gov.scot information...\n"
   ]
  },
  {
   "cell_type": "code",
   "execution_count": 6,
   "metadata": {},
   "outputs": [
    {
     "data": {
      "application/vnd.jupyter.widget-view+json": {
       "model_id": "f0d13236-33e8-4f50-8e40-d05d1ad2179c",
       "version_major": 2,
       "version_minor": 0
      },
      "method": "display_data"
     },
     "metadata": {},
     "output_type": "display_data"
    }
   ],
   "source": [
    "; Filter to find SEPA's Household Waste and NRS' Population datasets\n",
    "\n",
    "(->> all-datasets\n",
    "    (filter #(or \n",
    "                (and (= \"SEPA\" (:publisherLabel %)) \n",
    "                     (str/includes? (:name %) \"Household Waste\"))\n",
    "                (and (= \"National Records of Scotland\" (:publisherLabel %)) \n",
    "                     (str/includes? (:name %) \"Population\")\n",
    "                     (str/includes? (:name %) \"Current\"))))\n",
    "    (sort-by :name))"
   ]
  },
  {
   "cell_type": "markdown",
   "metadata": {},
   "source": [
    "Within [this](https://github.com/ash-mcc/dcs/blob/master/linked-data-experiment/plot-info-graphics.ipynb) previous lab book, we queried its triplestore for the waste tonnage genearated per council citizen per year by executing the [Datalog](https://en.wikipedia.org/wiki/Datalog) query:\n",
    "```\n",
    "          [:find ?c ?y ?t2 :where                       ; return council, year & tonnage\n",
    "            [?e1 :waste-type/name \"Subtotal\"]            \n",
    "            [?e2 :waste-process/name \"Generated\"]       \n",
    "            [?e3 :waste-tonnes-cytp/waste-type ?e1]     ; fixed at Subtotal\n",
    "            [?e3 :waste-tonnes-cytp/waste-process ?e2]  ; fixed at Generated\n",
    "            [?e3 :waste-tonnes-cytp/tonnes ?t1]         ; tonnage for a council for a year\n",
    "            [?e3 :waste-tonnes-cytp/council ?e4]\n",
    "            [?e3 :waste-tonnes-cytp/year ?e5]\n",
    "            [?e4 :council/name ?c]                      ; used to join waste- & population- facts\n",
    "            [?e5 :year/value ?y]                        ; used to join waste- & population- facts\n",
    "            [?e6 :population-cy/council ?e4]\n",
    "            [?e6 :population-cy/year ?e5]\n",
    "            [?e6 :population-cy/population ?p]          ; population for a council for a year \n",
    "            [(/ ?t1 ?p) ?t2]]                           ; calculate the tonnage per citizen\n",
    "```\n",
    "\n",
    "In theory, we ought to be able to acheive the same result by executing an equivalent SPARQL query against the datasets held in statistic.gov.scot. <br/>\n",
    "Let's try building up such a query step-by-step...\n"
   ]
  },
  {
   "cell_type": "code",
   "execution_count": 7,
   "metadata": {},
   "outputs": [
    {
     "data": {
      "application/vnd.jupyter.widget-view+json": {
       "model_id": "63e9dc22-1712-430c-98f9-81467bab6641",
       "version_major": 2,
       "version_minor": 0
      },
      "method": "display_data"
     },
     "metadata": {},
     "output_type": "display_data"
    }
   ],
   "source": [
    "; Query for the waste tonnage genearated per council per year\n",
    "\n",
    "(def sparql \"\n",
    "\n",
    "PREFIX qb: <http://purl.org/linked-data/cube#>\n",
    "PREFIX rdfs: <http://www.w3.org/2000/01/rdf-schema#>\n",
    "PREFIX pdmx: <http://purl.org/linked-data/sdmx/2009/dimension#>\n",
    "PREFIX sdmx: <http://statistics.gov.scot/def/dimension/>\n",
    "PREFIX snum: <http://statistics.gov.scot/def/measure-properties/>\n",
    "\n",
    "SELECT ?c ?y ?t\n",
    "WHERE {\n",
    "  \n",
    "    ?tonnage qb:dataSet <http://statistics.gov.scot/data/household-waste> .\n",
    "    ?tonnage pdmx:refArea ?area .\n",
    "    ?tonnage pdmx:refPeriod ?period .\n",
    "    ?tonnage sdmx:wasteCategory ?wastecategory .\n",
    "    ?tonnage sdmx:wasteManagement ?wastemanagement .\n",
    "    ?tonnage snum:count ?t .\n",
    "    ?area rdfs:label ?c .\n",
    "    ?period rdfs:label ?y .\n",
    "  \n",
    "    ?wastecategory rdfs:label \\\"Total Waste\\\" .\n",
    "    ?wastemanagement rdfs:label \\\"Waste Generated\\\" .\n",
    "}\n",
    "\")\n",
    "\n",
    "(def tonnage-generated-per-council-per-year (exec-query sparql))\n",
    "\n",
    "(sort-by (juxt :c :y) tonnage-generated-per-council-per-year)"
   ]
  },
  {
   "cell_type": "code",
   "execution_count": 8,
   "metadata": {
    "scrolled": true
   },
   "outputs": [
    {
     "data": {
      "text/plain": [
       "#'beaker_clojure_shell_e1d0e81c-5b57-4ec0-9039-260b35f4983a/sparql"
      ]
     },
     "execution_count": 8,
     "metadata": {},
     "output_type": "execute_result"
    }
   ],
   "source": [
    "; Query for the population per council per year (attempt #1)\n",
    "\n",
    "(def sparql \"\n",
    "\n",
    "PREFIX qb: <http://purl.org/linked-data/cube#>\n",
    "PREFIX rdfs: <http://www.w3.org/2000/01/rdf-schema#>\n",
    "PREFIX pdmx: <http://purl.org/linked-data/sdmx/2009/dimension#>\n",
    "PREFIX sdmx: <http://statistics.gov.scot/def/dimension/>\n",
    "PREFIX snum: <http://statistics.gov.scot/def/measure-properties/>\n",
    "PREFIX uent: <http://statistics.data.gov.uk/def/statistical-entity#>\n",
    "\n",
    "SELECT ?c ?y ?p\n",
    "WHERE {\n",
    "\n",
    "    ?population qb:dataSet <http://statistics.gov.scot/data/population-estimates-current-geographic-boundaries> .\n",
    "    ?population pdmx:refArea ?area .\n",
    "    ?population pdmx:refPeriod ?period .\n",
    "    ?population sdmx:age ?age .\n",
    "    ?population sdmx:sex ?sex .\n",
    "    ?population snum:count ?p .\n",
    "  \n",
    "    ?area rdfs:label ?c .\n",
    "    ?area uent:code ?y .\n",
    "    ?period rdfs:label ?periodLabel .\n",
    "  \n",
    "    ?areaCode rdfs:label \\\"Council Areas\\\" .\n",
    "    ?age rdfs:label \\\"All\\\" .\n",
    "    ?sex rdfs:label \\\"All\\\" .\n",
    "    \n",
    "    VALUES ?periodLabel {\\\"2011\\\" \\\"2012\\\" \\\"2013\\\" \\\"2014\\\" \\\"2015\\\" \\\"2016\\\" \\\"2017\\\" \\\"2018\\\"}\n",
    "}\n",
    "\")"
   ]
  },
  {
   "cell_type": "markdown",
   "metadata": {},
   "source": [
    "But statistics.gov.scot fails (with a timeout error message) when the above SPARQL query is executed against it. \n",
    "\n",
    "Bill Roberts (from Swirrl IT whose PublishMyData platform underlies the statistics.gov.scot site) helped me figure out the root cause of the failure: \n",
    "basically, that query results in too many _joins_ to compute within the 30 seconds limit of their public SPARQL endpoint. \n",
    "Bill suggested replacing `label`s with 'fixed' facts and performing the `VALUES` filter outside of SPARQL. \n",
    "\n",
    "So lets's try again...\n"
   ]
  },
  {
   "cell_type": "code",
   "execution_count": 9,
   "metadata": {},
   "outputs": [
    {
     "data": {
      "application/vnd.jupyter.widget-view+json": {
       "model_id": "2156646f-c4d2-4ed9-a5d2-a77dc55c12a1",
       "version_major": 2,
       "version_minor": 0
      },
      "method": "display_data"
     },
     "metadata": {},
     "output_type": "display_data"
    }
   ],
   "source": [
    "; Query for the population per council per year (attempt #2)\n",
    "\n",
    "(def sparql \"\n",
    "\n",
    "PREFIX qb: <http://purl.org/linked-data/cube#>\n",
    "PREFIX rdfs: <http://www.w3.org/2000/01/rdf-schema#>\n",
    "PREFIX pdmx: <http://purl.org/linked-data/sdmx/2009/dimension#>\n",
    "PREFIX sdmx: <http://statistics.gov.scot/def/dimension/>\n",
    "PREFIX snum: <http://statistics.gov.scot/def/measure-properties/>\n",
    "PREFIX uent: <http://statistics.data.gov.uk/def/statistical-entity#>\n",
    "\n",
    "SELECT ?c ?y ?p\n",
    "WHERE {\n",
    "\n",
    "    ?population qb:dataSet <http://statistics.gov.scot/data/population-estimates-current-geographic-boundaries> .\n",
    "    ?population pdmx:refArea ?area .\n",
    "    ?population pdmx:refPeriod ?period .\n",
    "    ?population sdmx:age <http://statistics.gov.scot/def/concept/age/all> .\n",
    "    ?population sdmx:sex <http://statistics.gov.scot/def/concept/sex/all> .\n",
    "    ?population snum:count ?p .\n",
    "\n",
    "    ?area uent:code <http://statistics.gov.scot/id/statistical-entity/S12> .\n",
    "    ?area rdfs:label ?c .\n",
    "    ?period rdfs:label ?y .\n",
    "}\n",
    "\")\n",
    "\n",
    "(def population-per-council-per-year \n",
    "    (->> (exec-query sparql)\n",
    "        (filter #(>= (Integer/parseInt (:y %)) 2011))))\n",
    "\n",
    "(sort-by (juxt :c :y) population-per-council-per-year)"
   ]
  },
  {
   "cell_type": "markdown",
   "metadata": {},
   "source": [
    "Now let's use the above two SPARQL queries in a single query SPARQL query that will find the waste tonnage genearated per council citizen per year (i.e. be equivalent to the Datalog query that was discussed earlier)...\n"
   ]
  },
  {
   "cell_type": "code",
   "execution_count": 10,
   "metadata": {},
   "outputs": [
    {
     "data": {
      "application/vnd.jupyter.widget-view+json": {
       "model_id": "6a344b14-eecb-4204-b077-be03d518a130",
       "version_major": 2,
       "version_minor": 0
      },
      "method": "display_data"
     },
     "metadata": {},
     "output_type": "display_data"
    }
   ],
   "source": [
    "; Query for the waste tonnage genearated per council citizen per year\n",
    "\n",
    "(def sparql \"\n",
    "\n",
    "PREFIX qb: <http://purl.org/linked-data/cube#>\n",
    "PREFIX rdfs: <http://www.w3.org/2000/01/rdf-schema#>\n",
    "PREFIX pdmx: <http://purl.org/linked-data/sdmx/2009/dimension#>\n",
    "PREFIX sdmx: <http://statistics.gov.scot/def/dimension/>\n",
    "PREFIX snum: <http://statistics.gov.scot/def/measure-properties/>\n",
    "PREFIX xsd: <http://www.w3.org/2001/XMLSchema#>\n",
    "\n",
    "SELECT ?c ?y ?t2\n",
    "WHERE {\n",
    "  \n",
    "    ?tonnage qb:dataSet <http://statistics.gov.scot/data/household-waste> .\n",
    "    ?tonnage pdmx:refArea ?area .\n",
    "    ?tonnage pdmx:refPeriod ?period .\n",
    "    ?tonnage sdmx:wasteCategory ?wastecategory .\n",
    "    ?tonnage sdmx:wasteManagement ?wastemanagement .\n",
    "    ?tonnage snum:count ?t1 .\n",
    "  \n",
    "    ?wastecategory rdfs:label \\\"Total Waste\\\" .\n",
    "    ?wastemanagement rdfs:label \\\"Waste Generated\\\" .\n",
    "\n",
    "    ?population qb:dataSet <http://statistics.gov.scot/data/population-estimates-current-geographic-boundaries> .\n",
    "    ?population pdmx:refArea ?area .\n",
    "    ?population pdmx:refPeriod ?period .\n",
    "    ?population sdmx:age <http://statistics.gov.scot/def/concept/age/all> .\n",
    "    ?population sdmx:sex <http://statistics.gov.scot/def/concept/sex/all> .\n",
    "    ?population snum:count ?p .\n",
    "\n",
    "    ?area rdfs:label ?c .\n",
    "    ?period rdfs:label ?y .\n",
    "    BIND((xsd:integer(?t1)/xsd:integer(?p)) AS ?t2) .\n",
    "}\n",
    "\")\n",
    "\n",
    "(def tonnage-generated-per-council-citizen-per-year (exec-query sparql))\n",
    "\n",
    "(sort-by (juxt :c :y) tonnage-generated-per-council-citizen-per-year)"
   ]
  },
  {
   "cell_type": "markdown",
   "metadata": {},
   "source": [
    "Now let's put that data into an infographic...\n"
   ]
  },
  {
   "cell_type": "code",
   "execution_count": 11,
   "metadata": {
    "scrolled": false
   },
   "outputs": [
    {
     "data": {
      "application/vnd.jupyter.widget-view+json": {
       "model_id": "c9d5bc60-fefb-4e7d-a793-5813de57697c",
       "version_major": 2,
       "version_minor": 0
      },
      "method": "display_data"
     },
     "metadata": {},
     "output_type": "display_data"
    }
   ],
   "source": [
    "; Plot an info-graphic the waste tonnage genearated per council citizen per year\n",
    "\n",
    "(def lines\n",
    "    (->> tonnage-generated-per-council-citizen-per-year\n",
    "        (group-by :c)\n",
    "        (map (fn [[c coll1]]\n",
    "                (let [coll2 (sort-by :y coll1)]\n",
    "                    {:label c\n",
    "                     :x-series (->> coll2 \n",
    "                         (map :y) \n",
    "                         (map (fn [yyyy] (LocalDate/parse (str yyyy \"-12-31\")))))\n",
    "                     :y-series (->> coll2\n",
    "                         (map :t2))})))))\n",
    "\n",
    "(def time-plot\n",
    "    (doto (TimePlot.)\n",
    "        (.setTitle \"Waste generated per council-citizen per year\")\n",
    "        (.setXLabel \"Year\")\n",
    "        (.setYLabel \"Tonnage\")))\n",
    "(doseq [line lines]\n",
    "    (.add time-plot (doto (Line.)\n",
    "                        (.setDisplayName (:label line))\n",
    "                        (.setX (:x-series line))\n",
    "                        (.setY (:y-series line)))))\n",
    "time-plot"
   ]
  },
  {
   "cell_type": "markdown",
   "metadata": {},
   "source": [
    "#### Conclusions\n",
    "\n",
    "* I'm impressed at statistics.gov.scot's platform - it manages to curate, link and make accessible a sizeable number of datasets from several sources.  \n",
    "Its datasets include some (e.g. [Household Waste](https://statistics.gov.scot/data/household-waste) and [Population](https://statistics.gov.scot/data/population-estimates-current-geographic-boundaries)) that are core to providing data about waste in Scotland.\n",
    "\n",
    "* Its SPARQL interface is powerful and has shown itself to be useful. \n",
    "However, some care must be taken to ensure that queries against it, are performant.   \n",
    "For example, we might have to split one query (requiring many _joins_) into several smaller queries (requiring less _joins_) that are neading together outside of SPARQL.\n",
    "\n",
    "* For the general public, statistics.gov.scot is not \"easy to use\" - I have seen several references to this in Slack workspaces (OpenDataScotland and SODU).    \n",
    "Whereas, statistictions/coders may accept that it is reasonably simple given that it is neading together diverse datasets into a coherent knowledge.   \n",
    "(Certainly it has taken me over one work-day to understand enough about the structures within statistics.gov.scot, just to be able to construct the queries above.)   \n",
    "One of the objectives of the Data Commons Scotland project is to address this \"easy of use\" issue.\n"
   ]
  },
  {
   "cell_type": "code",
   "execution_count": null,
   "metadata": {},
   "outputs": [],
   "source": []
  }
 ],
 "metadata": {
  "kernelspec": {
   "display_name": "Clojure",
   "language": "clojure",
   "name": "clojure"
  },
  "language_info": {
   "codemirror_mode": "Clojure",
   "file_extension": ".clj",
   "mimetype": "text/x-clojure",
   "name": "Clojure",
   "nbconverter_exporter": "",
   "version": "1.9.0"
  },
  "toc": {
   "base_numbering": 1,
   "nav_menu": {},
   "number_sections": false,
   "sideBar": false,
   "skip_h1_title": false,
   "title_cell": "Table of Contents",
   "title_sidebar": "Contents",
   "toc_cell": false,
   "toc_position": {},
   "toc_section_display": true,
   "toc_window_display": false
  }
 },
 "nbformat": 4,
 "nbformat_minor": 2
}
