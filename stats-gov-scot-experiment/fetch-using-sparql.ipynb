{
 "cells": [
  {
   "cell_type": "markdown",
   "metadata": {},
   "source": [
    "# Try to fetch information from statistics.gov.scot using SPARQL\n",
    "\n",
    "[statistics.gov.scot](http://statistics.gov.scot) makes many useful datasets available as linked open data.\n",
    "\n",
    "Let's execute a [SPARL](https://www.w3.org/TR/sparql11-query/) query to retrive information about all of those datssets...\n"
   ]
  },
  {
   "cell_type": "code",
   "execution_count": 3,
   "metadata": {
    "init_cell": true
   },
   "outputs": [
    {
     "data": {
      "application/vnd.jupyter.widget-view+json": {
       "model_id": "",
       "version_major": 2,
       "version_minor": 0
      },
      "method": "display_data"
     },
     "metadata": {},
     "output_type": "display_data"
    },
    {
     "data": {
      "application/vnd.jupyter.widget-view+json": {
       "model_id": "",
       "version_major": 2,
       "version_minor": 0
      },
      "method": "display_data"
     },
     "metadata": {},
     "output_type": "display_data"
    },
    {
     "data": {
      "text/plain": [
       "class com.twosigma.beakerx.chart.xychart.plotitem.Line"
      ]
     },
     "execution_count": 3,
     "metadata": {},
     "output_type": "execute_result"
    }
   ],
   "source": [
    "; Add code libraries \n",
    "\n",
    "%classpath add mvn org.clojure data.csv 1.0.0\n",
    "(require '[clojure.data.csv :as csv])\n",
    "\n",
    "%classpath add mvn clj-http clj-http 3.10.1\n",
    "(require '[clj-http.client :as http])\n",
    "\n",
    "(require '[clojure.string :as str])\n",
    "\n",
    "(import 'java.net.URLEncoder)\n",
    "(import 'java.time.LocalDate)\n",
    "(import 'com.twosigma.beakerx.chart.xychart.TimePlot\n",
    "        'com.twosigma.beakerx.chart.xychart.plotitem.Line)"
   ]
  },
  {
   "cell_type": "code",
   "execution_count": 4,
   "metadata": {
    "init_cell": true
   },
   "outputs": [
    {
     "data": {
      "text/plain": [
       "#'beaker_clojure_shell_d969f8d8-804b-4a28-a997-e83a4343705f/exec-query"
      ]
     },
     "execution_count": 4,
     "metadata": {},
     "output_type": "execute_result"
    }
   ],
   "source": [
    "; Define convenience functions\n",
    "\n",
    "; Convert the CSV structure to a list-of-maps structure.\n",
    "(defn to-maps [csv-data]\n",
    "    (map zipmap (->> (first csv-data)\n",
    "                    (map keyword)\n",
    "                    repeat)\n",
    "                (rest csv-data)))\n",
    "\n",
    "; Ask statistic.gov.scot to execute the given SPARQL query\n",
    "; and return its result as a list-of-maps.\n",
    "(defn exec-query [sparql]\n",
    "    (->> (http/post \"http://statistics.gov.scot/sparql\" \n",
    "                    {:body (str \"query=\" (URLEncoder/encode sparql)) \n",
    "                    :headers {\"Accept\" \"text/csv\" \n",
    "                              \"Content-Type\" \"application/x-www-form-urlencoded\"} \n",
    "                    :debug false})\n",
    "        :body\n",
    "        csv/read-csv\n",
    "        to-maps))"
   ]
  },
  {
   "cell_type": "code",
   "execution_count": 5,
   "metadata": {
    "scrolled": false
   },
   "outputs": [
    {
     "data": {
      "text/plain": [
       "290 datasets"
      ]
     },
     "execution_count": 5,
     "metadata": {},
     "output_type": "execute_result"
    }
   ],
   "source": [
    "; Query for information about all the datasets\n",
    "\n",
    "(def sparql \"\n",
    "\n",
    "PREFIX dcterms: <http://purl.org/dc/terms/>\n",
    "PREFIX rdf: <http://www.w3.org/1999/02/22-rdf-syntax-ns#>\n",
    "PREFIX rdfs: <http://www.w3.org/2000/01/rdf-schema#>\n",
    "SELECT ?dataset ?name ?publisherLabel\n",
    "\n",
    "WHERE {\n",
    "    ?dataset rdf:type <http://publishmydata.com/def/dataset#Dataset>.\n",
    "    ?dataset rdfs:label ?name.\n",
    "    ?dataset dcterms:publisher ?publisher.\n",
    "\n",
    "    ?publisher rdfs:label ?publisherLabel.\n",
    "}\n",
    "\")\n",
    "\n",
    "(def all-datasets (exec-query sparql))\n",
    "\n",
    "(str (count all-datasets) \" datasets\")"
   ]
  },
  {
   "cell_type": "markdown",
   "metadata": {},
   "source": [
    "My [previous report](https://stir.sharepoint.com/:w:/r/sites/DataCommonsScotland/_layouts/15/Doc.aspx?sourcedoc=%7B5DD2D579-68D4-4C21-91CD-CCF6BE8BC276%7D&file=2020-04-16-progress-report-ash.docx&action=default&mobileredirect=true) used the Household Waste dataset from SEPA and the Population dataset from NRS.\n",
    "\n",
    "Let's find those two datasets in the statistics.gov.scot information...\n"
   ]
  },
  {
   "cell_type": "code",
   "execution_count": 6,
   "metadata": {
    "scrolled": true
   },
   "outputs": [
    {
     "data": {
      "application/vnd.jupyter.widget-view+json": {
       "model_id": "81249219-c8af-463c-a914-427300e582ec",
       "version_major": 2,
       "version_minor": 0
      },
      "method": "display_data"
     },
     "metadata": {},
     "output_type": "display_data"
    }
   ],
   "source": [
    "; Filter to find SEPA's Household Waste and NRS' Population datasets\n",
    "\n",
    "(->> all-datasets\n",
    "    (filter #(or \n",
    "                (and (= \"SEPA\" (:publisherLabel %)) \n",
    "                     (str/includes? (:name %) \"Household Waste\"))\n",
    "                (and (= \"National Records of Scotland\" (:publisherLabel %)) \n",
    "                     (str/includes? (:name %) \"Population\")\n",
    "                     (str/includes? (:name %) \"Current\"))))\n",
    "    (sort-by :name))"
   ]
  },
  {
   "attachments": {
    "2-datasets.png": {
     "image/png": "[encoded data removed]"
    }
   },
   "cell_type": "markdown",
   "metadata": {},
   "source": [
    "![2-datasets.png](attachment:2-datasets.png)"
   ]
  },
  {
   "cell_type": "markdown",
   "metadata": {},
   "source": [
    "Within [this](https://github.com/ash-mcc/dcs/blob/master/linked-data-experiment/plot-info-graphics.ipynb) previous lab book, we queried its triplestore for the waste tonnage genearated per council citizen per year by executing the [Datalog](https://en.wikipedia.org/wiki/Datalog) query:\n",
    "```\n",
    "          [:find ?c ?y ?t2 :where                       ; return council, year & tonnage\n",
    "            [?e1 :waste-type/name \"Subtotal\"]            \n",
    "            [?e2 :waste-process/name \"Generated\"]       \n",
    "            [?e3 :waste-tonnes-cytp/waste-type ?e1]     ; fixed at Subtotal\n",
    "            [?e3 :waste-tonnes-cytp/waste-process ?e2]  ; fixed at Generated\n",
    "            [?e3 :waste-tonnes-cytp/tonnes ?t1]         ; tonnage for a council for a year\n",
    "            [?e3 :waste-tonnes-cytp/council ?e4]\n",
    "            [?e3 :waste-tonnes-cytp/year ?e5]\n",
    "            [?e4 :council/name ?c]                      ; used to join waste- & population- facts\n",
    "            [?e5 :year/value ?y]                        ; used to join waste- & population- facts\n",
    "            [?e6 :population-cy/council ?e4]\n",
    "            [?e6 :population-cy/year ?e5]\n",
    "            [?e6 :population-cy/population ?p]          ; population for a council for a year \n",
    "            [(/ ?t1 ?p) ?t2]]                           ; calculate the tonnage per citizen\n",
    "```\n",
    "\n",
    "In theory, we ought to be able to acheive the same result by executing an equivalent SPARQL query against the datasets held in statistic.gov.scot. <br/>\n",
    "Let's try building up such a query step-by-step...\n"
   ]
  },
  {
   "cell_type": "code",
   "execution_count": 7,
   "metadata": {},
   "outputs": [
    {
     "data": {
      "application/vnd.jupyter.widget-view+json": {
       "model_id": "2a3a8f14-054d-47c5-87bb-fa58b2338ac3",
       "version_major": 2,
       "version_minor": 0
      },
      "method": "display_data"
     },
     "metadata": {},
     "output_type": "display_data"
    }
   ],
   "source": [
    "; Query for the waste tonnage genearated per council per year\n",
    "\n",
    "(def sparql \"\n",
    "\n",
    "PREFIX qb: <http://purl.org/linked-data/cube#>\n",
    "PREFIX rdfs: <http://www.w3.org/2000/01/rdf-schema#>\n",
    "PREFIX pdmx: <http://purl.org/linked-data/sdmx/2009/dimension#>\n",
    "PREFIX sdmx: <http://statistics.gov.scot/def/dimension/>\n",
    "PREFIX snum: <http://statistics.gov.scot/def/measure-properties/>\n",
    "\n",
    "SELECT ?c ?y ?t\n",
    "WHERE {\n",
    "  \n",
    "    ?tonnage qb:dataSet <http://statistics.gov.scot/data/household-waste> .\n",
    "    ?tonnage pdmx:refArea ?area .\n",
    "    ?tonnage pdmx:refPeriod ?period .\n",
    "    ?tonnage sdmx:wasteCategory ?wastecategory .\n",
    "    ?tonnage sdmx:wasteManagement ?wastemanagement .\n",
    "    ?tonnage snum:count ?t .\n",
    "    ?area rdfs:label ?c .\n",
    "    ?period rdfs:label ?y .\n",
    "  \n",
    "    ?wastecategory rdfs:label \\\"Total Waste\\\" .\n",
    "    ?wastemanagement rdfs:label \\\"Waste Generated\\\" .\n",
    "}\n",
    "\")\n",
    "\n",
    "(def tonnage-generated-per-council-per-year (exec-query sparql))\n",
    "\n",
    "(sort-by (juxt :c :y) tonnage-generated-per-council-per-year)"
   ]
  },
  {
   "attachments": {
    "tonnages.png": {
     "image/png": "[encoded data removed]"
    }
   },
   "cell_type": "markdown",
   "metadata": {},
   "source": [
    "![tonnages.png](attachment:tonnages.png)"
   ]
  },
  {
   "cell_type": "code",
   "execution_count": 8,
   "metadata": {
    "scrolled": true
   },
   "outputs": [
    {
     "data": {
      "text/plain": [
       "#'beaker_clojure_shell_d969f8d8-804b-4a28-a997-e83a4343705f/sparql"
      ]
     },
     "execution_count": 8,
     "metadata": {},
     "output_type": "execute_result"
    }
   ],
   "source": [
    "; Query for the population per council per year (attempt #1)\n",
    "\n",
    "(def sparql \"\n",
    "\n",
    "PREFIX qb: <http://purl.org/linked-data/cube#>\n",
    "PREFIX rdfs: <http://www.w3.org/2000/01/rdf-schema#>\n",
    "PREFIX pdmx: <http://purl.org/linked-data/sdmx/2009/dimension#>\n",
    "PREFIX sdmx: <http://statistics.gov.scot/def/dimension/>\n",
    "PREFIX snum: <http://statistics.gov.scot/def/measure-properties/>\n",
    "PREFIX uent: <http://statistics.data.gov.uk/def/statistical-entity#>\n",
    "\n",
    "SELECT ?c ?y ?p\n",
    "WHERE {\n",
    "\n",
    "    ?population qb:dataSet <http://statistics.gov.scot/data/population-estimates-current-geographic-boundaries> .\n",
    "    ?population pdmx:refArea ?area .\n",
    "    ?population pdmx:refPeriod ?period .\n",
    "    ?population sdmx:age ?age .\n",
    "    ?population sdmx:sex ?sex .\n",
    "    ?population snum:count ?p .\n",
    "  \n",
    "    ?area rdfs:label ?c .\n",
    "    ?area uent:code ?y .\n",
    "    ?period rdfs:label ?periodLabel .\n",
    "  \n",
    "    ?areaCode rdfs:label \\\"Council Areas\\\" .\n",
    "    ?age rdfs:label \\\"All\\\" .\n",
    "    ?sex rdfs:label \\\"All\\\" .\n",
    "    \n",
    "    VALUES ?periodLabel {\\\"2011\\\" \\\"2012\\\" \\\"2013\\\" \\\"2014\\\" \\\"2015\\\" \\\"2016\\\" \\\"2017\\\" \\\"2018\\\"}\n",
    "}\n",
    "\")"
   ]
  },
  {
   "cell_type": "markdown",
   "metadata": {},
   "source": [
    "But statistics.gov.scot fails (with a timeout error message) when the above SPARQL query is executed against it. \n",
    "\n",
    "Bill Roberts (from Swirrl IT whose PublishMyData platform underlies the statistics.gov.scot site) helped me figure out the root cause of the failure: \n",
    "basically, that query results in too many _joins_ to compute within the 30 seconds limit of their public SPARQL endpoint. \n",
    "Bill suggested replacing `label`s with 'fixed' facts and performing the `VALUES` filter outside of SPARQL. \n",
    "\n",
    "So lets's try again...\n"
   ]
  },
  {
   "cell_type": "code",
   "execution_count": 9,
   "metadata": {},
   "outputs": [
    {
     "data": {
      "application/vnd.jupyter.widget-view+json": {
       "model_id": "3b5e677d-15c9-48c8-a6e7-4e91253f1f05",
       "version_major": 2,
       "version_minor": 0
      },
      "method": "display_data"
     },
     "metadata": {},
     "output_type": "display_data"
    }
   ],
   "source": [
    "; Query for the population per council per year (attempt #2)\n",
    "\n",
    "(def sparql \"\n",
    "\n",
    "PREFIX qb: <http://purl.org/linked-data/cube#>\n",
    "PREFIX rdfs: <http://www.w3.org/2000/01/rdf-schema#>\n",
    "PREFIX pdmx: <http://purl.org/linked-data/sdmx/2009/dimension#>\n",
    "PREFIX sdmx: <http://statistics.gov.scot/def/dimension/>\n",
    "PREFIX snum: <http://statistics.gov.scot/def/measure-properties/>\n",
    "PREFIX uent: <http://statistics.data.gov.uk/def/statistical-entity#>\n",
    "\n",
    "SELECT ?c ?y ?p\n",
    "WHERE {\n",
    "\n",
    "    ?population qb:dataSet <http://statistics.gov.scot/data/population-estimates-current-geographic-boundaries> .\n",
    "    ?population pdmx:refArea ?area .\n",
    "    ?population pdmx:refPeriod ?period .\n",
    "    ?population sdmx:age <http://statistics.gov.scot/def/concept/age/all> .\n",
    "    ?population sdmx:sex <http://statistics.gov.scot/def/concept/sex/all> .\n",
    "    ?population snum:count ?p .\n",
    "\n",
    "    ?area uent:code <http://statistics.gov.scot/id/statistical-entity/S12> .\n",
    "    ?area rdfs:label ?c .\n",
    "    ?period rdfs:label ?y .\n",
    "}\n",
    "\")\n",
    "\n",
    "(def population-per-council-per-year \n",
    "    (->> (exec-query sparql)\n",
    "        (filter #(>= (Integer/parseInt (:y %)) 2011))))\n",
    "\n",
    "(sort-by (juxt :c :y) population-per-council-per-year)"
   ]
  },
  {
   "attachments": {
    "populations.png": {
     "image/png": "[encoded data removed]"
    }
   },
   "cell_type": "markdown",
   "metadata": {},
   "source": [
    "![populations.png](attachment:populations.png)"
   ]
  },
  {
   "cell_type": "markdown",
   "metadata": {},
   "source": [
    "Now let's use the above two SPARQL queries in a single query SPARQL query that will find the waste tonnage genearated per council citizen per year (i.e. be equivalent to the Datalog query that was discussed earlier)...\n"
   ]
  },
  {
   "cell_type": "code",
   "execution_count": 10,
   "metadata": {},
   "outputs": [
    {
     "data": {
      "application/vnd.jupyter.widget-view+json": {
       "model_id": "f109f9bf-de38-46e0-a8e9-fed269561206",
       "version_major": 2,
       "version_minor": 0
      },
      "method": "display_data"
     },
     "metadata": {},
     "output_type": "display_data"
    }
   ],
   "source": [
    "; Query for the waste tonnage genearated per council citizen per year\n",
    "\n",
    "(def sparql \"\n",
    "\n",
    "PREFIX qb: <http://purl.org/linked-data/cube#>\n",
    "PREFIX rdfs: <http://www.w3.org/2000/01/rdf-schema#>\n",
    "PREFIX pdmx: <http://purl.org/linked-data/sdmx/2009/dimension#>\n",
    "PREFIX sdmx: <http://statistics.gov.scot/def/dimension/>\n",
    "PREFIX snum: <http://statistics.gov.scot/def/measure-properties/>\n",
    "PREFIX xsd: <http://www.w3.org/2001/XMLSchema#>\n",
    "\n",
    "SELECT ?c ?y ?t2\n",
    "WHERE {\n",
    "  \n",
    "    ?tonnage qb:dataSet <http://statistics.gov.scot/data/household-waste> .\n",
    "    ?tonnage pdmx:refArea ?area .\n",
    "    ?tonnage pdmx:refPeriod ?period .\n",
    "    ?tonnage sdmx:wasteCategory ?wastecategory .\n",
    "    ?tonnage sdmx:wasteManagement ?wastemanagement .\n",
    "    ?tonnage snum:count ?t1 .\n",
    "  \n",
    "    ?wastecategory rdfs:label \\\"Total Waste\\\" .\n",
    "    ?wastemanagement rdfs:label \\\"Waste Generated\\\" .\n",
    "\n",
    "    ?population qb:dataSet <http://statistics.gov.scot/data/population-estimates-current-geographic-boundaries> .\n",
    "    ?population pdmx:refArea ?area .\n",
    "    ?population pdmx:refPeriod ?period .\n",
    "    ?population sdmx:age <http://statistics.gov.scot/def/concept/age/all> .\n",
    "    ?population sdmx:sex <http://statistics.gov.scot/def/concept/sex/all> .\n",
    "    ?population snum:count ?p .\n",
    "\n",
    "    ?area rdfs:label ?c .\n",
    "    ?period rdfs:label ?y .\n",
    "    BIND((xsd:integer(?t1)/xsd:integer(?p)) AS ?t2) .\n",
    "}\n",
    "\")\n",
    "\n",
    "(def tonnage-generated-per-council-citizen-per-year (exec-query sparql))\n",
    "\n",
    "(sort-by (juxt :c :y) tonnage-generated-per-council-citizen-per-year)"
   ]
  },
  {
   "attachments": {
    "tonnages-per-citizen.png": {
     "image/png": "[encoded data removed]"
    }
   },
   "cell_type": "markdown",
   "metadata": {},
   "source": [
    "![tonnages-per-citizen.png](attachment:tonnages-per-citizen.png)"
   ]
  },
  {
   "cell_type": "markdown",
   "metadata": {},
   "source": [
    "Now let's put that data into an infographic...\n"
   ]
  },
  {
   "cell_type": "code",
   "execution_count": 11,
   "metadata": {
    "scrolled": false
   },
   "outputs": [
    {
     "data": {
      "application/vnd.jupyter.widget-view+json": {
       "model_id": "8e0be748-b6aa-426d-a7c0-de6dd3b5eb9e",
       "version_major": 2,
       "version_minor": 0
      },
      "method": "display_data"
     },
     "metadata": {},
     "output_type": "display_data"
    }
   ],
   "source": [
    "; Plot an info-graphic the waste tonnage genearated per council citizen per year\n",
    "\n",
    "(def lines\n",
    "    (->> tonnage-generated-per-council-citizen-per-year\n",
    "        (group-by :c)\n",
    "        (map (fn [[c coll1]]\n",
    "                (let [coll2 (sort-by :y coll1)]\n",
    "                    {:label c\n",
    "                     :x-series (->> coll2 \n",
    "                         (map :y) \n",
    "                         (map (fn [yyyy] (LocalDate/parse (str yyyy \"-12-31\")))))\n",
    "                     :y-series (->> coll2\n",
    "                         (map :t2))})))))\n",
    "\n",
    "(def time-plot\n",
    "    (doto (TimePlot.)\n",
    "        (.setTitle \"Waste generated per council-citizen per year\")\n",
    "        (.setXLabel \"Year\")\n",
    "        (.setYLabel \"Tonnage\")))\n",
    "(doseq [line lines]\n",
    "    (.add time-plot (doto (Line.)\n",
    "                        (.setDisplayName (:label line))\n",
    "                        (.setX (:x-series line))\n",
    "                        (.setY (:y-series line)))))\n",
    "time-plot"
   ]
  },
  {
   "attachments": {
    "plot.png": {
     "image/png": "[encoded data removed]"
    }
   },
   "cell_type": "markdown",
   "metadata": {},
   "source": [
    "![plot.png](attachment:plot.png)"
   ]
  },
  {
   "cell_type": "markdown",
   "metadata": {},
   "source": [
    "#### Conclusions\n",
    "\n",
    "* I'm impressed at statistics.gov.scot's platform - it manages to curate, link and make accessible a sizeable number of datasets from several sources.  \n",
    "Its datasets include some (e.g. [Household Waste](https://statistics.gov.scot/data/household-waste) and [Population](https://statistics.gov.scot/data/population-estimates-current-geographic-boundaries)) that are core to providing data about waste in Scotland.\n",
    "\n",
    "* Its SPARQL interface is powerful and has shown itself to be useful. \n",
    "However, some care must be taken to ensure that queries against it, are performant.   \n",
    "For example, we might have to split one query (requiring many _joins_) into several smaller queries (requiring less _joins_) that are neading together outside of SPARQL.\n",
    "\n",
    "* For the general public, statistics.gov.scot is not \"easy to use\" - I have seen several references to this in Slack workspaces (OpenDataScotland and SODU).    \n",
    "Whereas, statistictions/coders may accept that it is reasonably simple given that it is neading together diverse datasets into a coherent knowledge.   \n",
    "(Certainly it has taken me over one work-day to understand enough about the structures within statistics.gov.scot, just to be able to construct the queries above.)   \n",
    "One of the objectives of the Data Commons Scotland project is to address this \"easy of use\" issue.\n"
   ]
  }
 ],
 "metadata": {
  "kernelspec": {
   "display_name": "Clojure",
   "language": "clojure",
   "name": "clojure"
  },
  "language_info": {
   "codemirror_mode": "Clojure",
   "file_extension": ".clj",
   "mimetype": "text/x-clojure",
   "name": "Clojure",
   "nbconverter_exporter": "",
   "version": "1.9.0"
  },
  "toc": {
   "base_numbering": 1,
   "nav_menu": {},
   "number_sections": false,
   "sideBar": false,
   "skip_h1_title": false,
   "title_cell": "Table of Contents",
   "title_sidebar": "Contents",
   "toc_cell": false,
   "toc_position": {},
   "toc_section_display": true,
   "toc_window_display": false
  },
  "widgets": {
   "application/vnd.jupyter.widget-state+json": {
    "state": {
     "0d4d733c-3c81-459a-ab30-17a67638a33c": {
      "model_module": "@jupyter-widgets/base",
      "model_module_version": "*",
      "model_name": "LayoutModel",
      "state": {
       "_model_module_version": "*",
       "_view_module_version": "*",
       "align_content": "",
       "align_self": "",
       "border": "",
       "bottom": "",
       "flex": "",
       "height": "",
       "justify_content": "",
       "left": "",
       "margin": "",
       "max_height": "",
       "max_width": "",
       "min_height": "",
       "min_width": "",
       "msg_throttle": 3,
       "overflow": "",
       "overflow_x": "",
       "overflow_y": "",
       "padding": "",
       "right": "",
       "top": ""
      }
     },
     "114df879-177f-4af4-a872-4d1bb6e9783a": {
      "model_module": "beakerx",
      "model_module_version": "*",
      "model_name": "BxHTMLModel",
      "state": {
       "background_color": null,
       "color": null,
       "font_family": "",
       "font_size": "",
       "font_style": "",
       "font_weight": "",
       "layout": "IPY_MODEL_5929a76b-d097-4e54-8973-c7068c8942a4",
       "msg_throttle": 3,
       "placeholder": "",
       "value": "httpclient-cache-4.5.10.jar, clj-http-3.10.1.jar, httpcore-4.4.12.jar, httpasyncclient-4.1.4.jar, commons-codec-1.12.jar, commons-io-2.6.jar, riddley-0.1.12.jar, httpclient-4.5.10.jar, httpmime-4.5.10.jar, clj-tuple-0.2.2.jar, commons-logging-1.2.jar, potemkin-0.4.5.jar, httpcore-nio-4.4.10.jar, slingshot-0.12.2.jar",
       "visible": true
      }
     },
     "2156646f-c4d2-4ed9-a5d2-a77dc55c12a1": {
      "model_module": "beakerx",
      "model_module_version": "*",
      "model_name": "TableDisplayModel",
      "state": {
       "model": {
        "alignmentForColumn": {},
        "alignmentForType": {},
        "cellHighlighters": [],
        "columnNames": [
         ":c",
         ":y",
         ":p"
        ],
        "columnOrder": [],
        "columnsFrozen": {},
        "columnsFrozenRight": {},
        "columnsVisible": {},
        "contextMenuItems": [],
        "contextMenuTags": {},
        "dataFontSize": null,
        "doubleClickTag": null,
        "fontColor": [],
        "hasDoubleClickAction": false,
        "hasIndex": null,
        "headerFontSize": null,
        "headersVertical": false,
        "rendererForColumn": {},
        "rendererForType": {},
        "stringFormatForColumn": {},
        "stringFormatForTimes": null,
        "stringFormatForType": {},
        "subtype": "ListOfMaps",
        "timeZone": null,
        "tooManyRows": false,
        "tooltips": [],
        "type": "TableDisplay",
        "types": [
         "string",
         "string",
         "string"
        ],
        "values": [
         [
          "Aberdeen City",
          "2011",
          "222460"
         ],
         [
          "Aberdeen City",
          "2012",
          "224910"
         ],
         [
          "Aberdeen City",
          "2013",
          "227070"
         ],
         [
          "Aberdeen City",
          "2014",
          "228920"
         ],
         [
          "Aberdeen City",
          "2015",
          "230350"
         ],
         [
          "Aberdeen City",
          "2016",
          "229840"
         ],
         [
          "Aberdeen City",
          "2017",
          "228800"
         ],
         [
          "Aberdeen City",
          "2018",
          "227560"
         ],
         [
          "Aberdeenshire",
          "2011",
          "253650"
         ],
         [
          "Aberdeenshire",
          "2012",
          "255560"
         ],
         [
          "Aberdeenshire",
          "2013",
          "257770"
         ],
         [
          "Aberdeenshire",
          "2014",
          "260530"
         ],
         [
          "Aberdeenshire",
          "2015",
          "261960"
         ],
         [
          "Aberdeenshire",
          "2016",
          "262190"
         ],
         [
          "Aberdeenshire",
          "2017",
          "261800"
         ],
         [
          "Aberdeenshire",
          "2018",
          "261470"
         ],
         [
          "Angus",
          "2011",
          "116200"
         ],
         [
          "Angus",
          "2012",
          "116220"
         ],
         [
          "Angus",
          "2013",
          "116290"
         ],
         [
          "Angus",
          "2014",
          "116740"
         ],
         [
          "Angus",
          "2015",
          "116900"
         ],
         [
          "Angus",
          "2016",
          "116520"
         ],
         [
          "Angus",
          "2017",
          "116280"
         ],
         [
          "Angus",
          "2018",
          "116040"
         ],
         [
          "Argyll and Bute",
          "2011",
          "88930"
         ],
         [
          "Argyll and Bute",
          "2012",
          "86910"
         ],
         [
          "Argyll and Bute",
          "2013",
          "88050"
         ],
         [
          "Argyll and Bute",
          "2014",
          "87650"
         ],
         [
          "Argyll and Bute",
          "2015",
          "86890"
         ],
         [
          "Argyll and Bute",
          "2016",
          "87130"
         ],
         [
          "Argyll and Bute",
          "2017",
          "86810"
         ],
         [
          "Argyll and Bute",
          "2018",
          "86260"
         ],
         [
          "City of Edinburgh",
          "2011",
          "477940"
         ],
         [
          "City of Edinburgh",
          "2012",
          "482630"
         ],
         [
          "City of Edinburgh",
          "2013",
          "487460"
         ],
         [
          "City of Edinburgh",
          "2014",
          "492610"
         ],
         [
          "City of Edinburgh",
          "2015",
          "498810"
         ],
         [
          "City of Edinburgh",
          "2016",
          "507170"
         ],
         [
          "City of Edinburgh",
          "2017",
          "513210"
         ],
         [
          "City of Edinburgh",
          "2018",
          "518500"
         ],
         [
          "Clackmannanshire",
          "2011",
          "51500"
         ],
         [
          "Clackmannanshire",
          "2012",
          "51280"
         ],
         [
          "Clackmannanshire",
          "2013",
          "51280"
         ],
         [
          "Clackmannanshire",
          "2014",
          "51190"
         ],
         [
          "Clackmannanshire",
          "2015",
          "51360"
         ],
         [
          "Clackmannanshire",
          "2016",
          "51350"
         ],
         [
          "Clackmannanshire",
          "2017",
          "51450"
         ],
         [
          "Clackmannanshire",
          "2018",
          "51400"
         ],
         [
          "Dumfries and Galloway",
          "2011",
          "151410"
         ],
         [
          "Dumfries and Galloway",
          "2012",
          "150840"
         ],
         [
          "Dumfries and Galloway",
          "2013",
          "150280"
         ],
         [
          "Dumfries and Galloway",
          "2014",
          "149960"
         ],
         [
          "Dumfries and Galloway",
          "2015",
          "149670"
         ],
         [
          "Dumfries and Galloway",
          "2016",
          "149520"
         ],
         [
          "Dumfries and Galloway",
          "2017",
          "149200"
         ],
         [
          "Dumfries and Galloway",
          "2018",
          "148790"
         ],
         [
          "Dundee City",
          "2011",
          "147200"
         ],
         [
          "Dundee City",
          "2012",
          "147780"
         ],
         [
          "Dundee City",
          "2013",
          "148100"
         ],
         [
          "Dundee City",
          "2014",
          "148130"
         ],
         [
          "Dundee City",
          "2015",
          "148210"
         ],
         [
          "Dundee City",
          "2016",
          "148270"
         ],
         [
          "Dundee City",
          "2017",
          "148710"
         ],
         [
          "Dundee City",
          "2018",
          "148750"
         ],
         [
          "East Ayrshire",
          "2011",
          "122690"
         ],
         [
          "East Ayrshire",
          "2012",
          "122730"
         ],
         [
          "East Ayrshire",
          "2013",
          "122430"
         ],
         [
          "East Ayrshire",
          "2014",
          "122130"
         ],
         [
          "East Ayrshire",
          "2015",
          "122060"
         ],
         [
          "East Ayrshire",
          "2016",
          "122200"
         ],
         [
          "East Ayrshire",
          "2017",
          "121940"
         ],
         [
          "East Ayrshire",
          "2018",
          "121840"
         ],
         [
          "East Dunbartonshire",
          "2011",
          "105000"
         ],
         [
          "East Dunbartonshire",
          "2012",
          "105880"
         ],
         [
          "East Dunbartonshire",
          "2013",
          "105840"
         ],
         [
          "East Dunbartonshire",
          "2014",
          "106710"
         ],
         [
          "East Dunbartonshire",
          "2015",
          "106960"
         ],
         [
          "East Dunbartonshire",
          "2016",
          "107540"
         ],
         [
          "East Dunbartonshire",
          "2017",
          "108130"
         ],
         [
          "East Dunbartonshire",
          "2018",
          "108330"
         ],
         [
          "East Lothian",
          "2011",
          "99920"
         ],
         [
          "East Lothian",
          "2012",
          "100860"
         ],
         [
          "East Lothian",
          "2013",
          "101390"
         ],
         [
          "East Lothian",
          "2014",
          "102090"
         ],
         [
          "East Lothian",
          "2015",
          "103050"
         ],
         [
          "East Lothian",
          "2016",
          "104090"
         ],
         [
          "East Lothian",
          "2017",
          "104840"
         ],
         [
          "East Lothian",
          "2018",
          "105790"
         ],
         [
          "East Renfrewshire",
          "2011",
          "90810"
         ],
         [
          "East Renfrewshire",
          "2012",
          "91040"
         ],
         [
          "East Renfrewshire",
          "2013",
          "91530"
         ],
         [
          "East Renfrewshire",
          "2014",
          "92410"
         ],
         [
          "East Renfrewshire",
          "2015",
          "92940"
         ],
         [
          "East Renfrewshire",
          "2016",
          "93810"
         ],
         [
          "East Renfrewshire",
          "2017",
          "94760"
         ],
         [
          "East Renfrewshire",
          "2018",
          "95170"
         ],
         [
          "Falkirk",
          "2011",
          "156250"
         ],
         [
          "Falkirk",
          "2012",
          "156800"
         ],
         [
          "Falkirk",
          "2013",
          "157160"
         ],
         [
          "Falkirk",
          "2014",
          "157690"
         ],
         [
          "Falkirk",
          "2015",
          "158460"
         ],
         [
          "Falkirk",
          "2016",
          "159380"
         ],
         [
          "Falkirk",
          "2017",
          "160130"
         ],
         [
          "Falkirk",
          "2018",
          "160340"
         ],
         [
          "Fife",
          "2011",
          "365300"
         ],
         [
          "Fife",
          "2012",
          "366210"
         ],
         [
          "Fife",
          "2013",
          "366900"
         ],
         [
          "Fife",
          "2014",
          "367250"
         ],
         [
          "Fife",
          "2015",
          "368080"
         ],
         [
          "Fife",
          "2016",
          "370330"
         ],
         [
          "Fife",
          "2017",
          "371410"
         ],
         [
          "Fife",
          "2018",
          "371910"
         ],
         [
          "Glasgow City",
          "2011",
          "593060"
         ],
         [
          "Glasgow City",
          "2012",
          "595070"
         ],
         [
          "Glasgow City",
          "2013",
          "596520"
         ],
         [
          "Glasgow City",
          "2014",
          "599640"
         ],
         [
          "Glasgow City",
          "2015",
          "606340"
         ],
         [
          "Glasgow City",
          "2016",
          "615070"
         ],
         [
          "Glasgow City",
          "2017",
          "621020"
         ],
         [
          "Glasgow City",
          "2018",
          "626410"
         ],
         [
          "Highland",
          "2011",
          "232730"
         ],
         [
          "Highland",
          "2012",
          "232890"
         ],
         [
          "Highland",
          "2013",
          "232930"
         ],
         [
          "Highland",
          "2014",
          "233080"
         ],
         [
          "Highland",
          "2015",
          "234110"
         ],
         [
          "Highland",
          "2016",
          "234770"
         ],
         [
          "Highland",
          "2017",
          "235180"
         ],
         [
          "Highland",
          "2018",
          "235540"
         ],
         [
          "Inverclyde",
          "2011",
          "81220"
         ],
         [
          "Inverclyde",
          "2012",
          "80690"
         ],
         [
          "Inverclyde",
          "2013",
          "80340"
         ],
         [
          "Inverclyde",
          "2014",
          "79890"
         ],
         [
          "Inverclyde",
          "2015",
          "79500"
         ],
         [
          "Inverclyde",
          "2016",
          "79160"
         ],
         [
          "Inverclyde",
          "2017",
          "78760"
         ],
         [
          "Inverclyde",
          "2018",
          "78150"
         ],
         [
          "Midlothian",
          "2011",
          "83450"
         ],
         [
          "Midlothian",
          "2012",
          "84240"
         ],
         [
          "Midlothian",
          "2013",
          "84710"
         ],
         [
          "Midlothian",
          "2014",
          "86220"
         ],
         [
          "Midlothian",
          "2015",
          "87390"
         ],
         [
          "Midlothian",
          "2016",
          "88610"
         ],
         [
          "Midlothian",
          "2017",
          "90090"
         ],
         [
          "Midlothian",
          "2018",
          "91340"
         ],
         [
          "Moray",
          "2011",
          "93470"
         ],
         [
          "Moray",
          "2012",
          "92930"
         ],
         [
          "Moray",
          "2013",
          "94360"
         ],
         [
          "Moray",
          "2014",
          "94770"
         ],
         [
          "Moray",
          "2015",
          "95510"
         ],
         [
          "Moray",
          "2016",
          "96070"
         ],
         [
          "Moray",
          "2017",
          "95780"
         ],
         [
          "Moray",
          "2018",
          "95520"
         ],
         [
          "Na h-Eileanan Siar",
          "2011",
          "27690"
         ],
         [
          "Na h-Eileanan Siar",
          "2012",
          "27560"
         ],
         [
          "Na h-Eileanan Siar",
          "2013",
          "27400"
         ],
         [
          "Na h-Eileanan Siar",
          "2014",
          "27250"
         ],
         [
          "Na h-Eileanan Siar",
          "2015",
          "27070"
         ],
         [
          "Na h-Eileanan Siar",
          "2016",
          "26900"
         ],
         [
          "Na h-Eileanan Siar",
          "2017",
          "26950"
         ],
         [
          "Na h-Eileanan Siar",
          "2018",
          "26830"
         ],
         [
          "North Ayrshire",
          "2011",
          "138090"
         ],
         [
          "North Ayrshire",
          "2012",
          "137570"
         ],
         [
          "North Ayrshire",
          "2013",
          "136940"
         ],
         [
          "North Ayrshire",
          "2014",
          "136480"
         ],
         [
          "North Ayrshire",
          "2015",
          "136130"
         ],
         [
          "North Ayrshire",
          "2016",
          "135890"
         ],
         [
          "North Ayrshire",
          "2017",
          "135790"
         ],
         [
          "North Ayrshire",
          "2018",
          "135280"
         ],
         [
          "North Lanarkshire",
          "2011",
          "337720"
         ],
         [
          "North Lanarkshire",
          "2012",
          "337890"
         ],
         [
          "North Lanarkshire",
          "2013",
          "337780"
         ],
         [
          "North Lanarkshire",
          "2014",
          "338000"
         ],
         [
          "North Lanarkshire",
          "2015",
          "338260"
         ],
         [
          "North Lanarkshire",
          "2016",
          "339390"
         ],
         [
          "North Lanarkshire",
          "2017",
          "339960"
         ],
         [
          "North Lanarkshire",
          "2018",
          "340180"
         ],
         [
          "Orkney Islands",
          "2011",
          "21420"
         ],
         [
          "Orkney Islands",
          "2012",
          "21530"
         ],
         [
          "Orkney Islands",
          "2013",
          "21560"
         ],
         [
          "Orkney Islands",
          "2014",
          "21580"
         ],
         [
          "Orkney Islands",
          "2015",
          "21670"
         ],
         [
          "Orkney Islands",
          "2016",
          "21850"
         ],
         [
          "Orkney Islands",
          "2017",
          "22000"
         ],
         [
          "Orkney Islands",
          "2018",
          "22190"
         ],
         [
          "Perth and Kinross",
          "2011",
          "146850"
         ],
         [
          "Perth and Kinross",
          "2012",
          "147740"
         ],
         [
          "Perth and Kinross",
          "2013",
          "147770"
         ],
         [
          "Perth and Kinross",
          "2014",
          "148930"
         ],
         [
          "Perth and Kinross",
          "2015",
          "149930"
         ],
         [
          "Perth and Kinross",
          "2016",
          "150680"
         ],
         [
          "Perth and Kinross",
          "2017",
          "151100"
         ],
         [
          "Perth and Kinross",
          "2018",
          "151290"
         ],
         [
          "Renfrewshire",
          "2011",
          "174700"
         ],
         [
          "Renfrewshire",
          "2012",
          "174300"
         ],
         [
          "Renfrewshire",
          "2013",
          "173890"
         ],
         [
          "Renfrewshire",
          "2014",
          "174230"
         ],
         [
          "Renfrewshire",
          "2015",
          "174560"
         ],
         [
          "Renfrewshire",
          "2016",
          "175930"
         ],
         [
          "Renfrewshire",
          "2017",
          "176830"
         ],
         [
          "Renfrewshire",
          "2018",
          "177790"
         ],
         [
          "Scottish Borders",
          "2011",
          "113880"
         ],
         [
          "Scottish Borders",
          "2012",
          "113720"
         ],
         [
          "Scottish Borders",
          "2013",
          "113880"
         ],
         [
          "Scottish Borders",
          "2014",
          "114040"
         ],
         [
          "Scottish Borders",
          "2015",
          "114030"
         ],
         [
          "Scottish Borders",
          "2016",
          "114530"
         ],
         [
          "Scottish Borders",
          "2017",
          "115020"
         ],
         [
          "Scottish Borders",
          "2018",
          "115270"
         ],
         [
          "Shetland Islands",
          "2011",
          "23240"
         ],
         [
          "Shetland Islands",
          "2012",
          "23210"
         ],
         [
          "Shetland Islands",
          "2013",
          "23200"
         ],
         [
          "Shetland Islands",
          "2014",
          "23220"
         ],
         [
          "Shetland Islands",
          "2015",
          "23200"
         ],
         [
          "Shetland Islands",
          "2016",
          "23200"
         ],
         [
          "Shetland Islands",
          "2017",
          "23080"
         ],
         [
          "Shetland Islands",
          "2018",
          "22990"
         ],
         [
          "South Ayrshire",
          "2011",
          "112980"
         ],
         [
          "South Ayrshire",
          "2012",
          "112920"
         ],
         [
          "South Ayrshire",
          "2013",
          "112870"
         ],
         [
          "South Ayrshire",
          "2014",
          "112530"
         ],
         [
          "South Ayrshire",
          "2015",
          "112400"
         ],
         [
          "South Ayrshire",
          "2016",
          "112470"
         ],
         [
          "South Ayrshire",
          "2017",
          "112680"
         ],
         [
          "South Ayrshire",
          "2018",
          "112550"
         ],
         [
          "South Lanarkshire",
          "2011",
          "313900"
         ],
         [
          "South Lanarkshire",
          "2012",
          "314330"
         ],
         [
          "South Lanarkshire",
          "2013",
          "314810"
         ],
         [
          "South Lanarkshire",
          "2014",
          "315300"
         ],
         [
          "South Lanarkshire",
          "2015",
          "316230"
         ],
         [
          "South Lanarkshire",
          "2016",
          "317100"
         ],
         [
          "South Lanarkshire",
          "2017",
          "318170"
         ],
         [
          "South Lanarkshire",
          "2018",
          "319020"
         ],
         [
          "Stirling",
          "2011",
          "90330"
         ],
         [
          "Stirling",
          "2012",
          "91010"
         ],
         [
          "Stirling",
          "2013",
          "91230"
         ],
         [
          "Stirling",
          "2014",
          "91520"
         ],
         [
          "Stirling",
          "2015",
          "92830"
         ],
         [
          "Stirling",
          "2016",
          "93750"
         ],
         [
          "Stirling",
          "2017",
          "94000"
         ],
         [
          "Stirling",
          "2018",
          "94330"
         ],
         [
          "West Dunbartonshire",
          "2011",
          "90610"
         ],
         [
          "West Dunbartonshire",
          "2012",
          "90340"
         ],
         [
          "West Dunbartonshire",
          "2013",
          "89800"
         ],
         [
          "West Dunbartonshire",
          "2014",
          "89710"
         ],
         [
          "West Dunbartonshire",
          "2015",
          "89590"
         ],
         [
          "West Dunbartonshire",
          "2016",
          "89860"
         ],
         [
          "West Dunbartonshire",
          "2017",
          "89610"
         ],
         [
          "West Dunbartonshire",
          "2018",
          "89130"
         ],
         [
          "West Lothian",
          "2011",
          "175300"
         ],
         [
          "West Lothian",
          "2012",
          "176010"
         ],
         [
          "West Lothian",
          "2013",
          "176160"
         ],
         [
          "West Lothian",
          "2014",
          "177200"
         ],
         [
          "West Lothian",
          "2015",
          "178550"
         ],
         [
          "West Lothian",
          "2016",
          "180130"
         ],
         [
          "West Lothian",
          "2017",
          "181310"
         ],
         [
          "West Lothian",
          "2018",
          "182140"
         ]
        ]
       }
      }
     },
     "25705cb5-c879-4d34-b895-ce6787a8f5d6": {
      "model_module": "@jupyter-widgets/base",
      "model_module_version": "*",
      "model_name": "LayoutModel",
      "state": {
       "_model_module_version": "*",
       "_view_module_version": "*",
       "align_content": "",
       "align_self": "",
       "border": "",
       "bottom": "",
       "flex": "",
       "height": "",
       "justify_content": "",
       "left": "",
       "margin": "",
       "max_height": "",
       "max_width": "",
       "min_height": "",
       "min_width": "",
       "msg_throttle": 3,
       "overflow": "",
       "overflow_x": "",
       "overflow_y": "",
       "padding": "",
       "right": "",
       "top": ""
      }
     },
     "2dc8d621-14c4-403c-b5f1-57f27c66cca7": {
      "model_module": "beakerx",
      "model_module_version": "*",
      "model_name": "FoldoutModel",
      "state": {
       "background_color": null,
       "children": [
        "IPY_MODEL_114df879-177f-4af4-a872-4d1bb6e9783a"
       ],
       "color": null,
       "description": "",
       "disabled": false,
       "font_family": "",
       "font_size": "",
       "font_style": "",
       "font_weight": "",
       "headerLabel": "Added jars: ",
       "hidePreview": false,
       "layout": "IPY_MODEL_5b7c5a43-0b99-4d12-82ea-5a0a5c40ebed",
       "msg_throttle": 3,
       "visible": true
      }
     },
     "3315b4d4-d6d3-4d93-9dd8-cada0ad6f863": {
      "model_module": "@jupyter-widgets/base",
      "model_module_version": "*",
      "model_name": "LayoutModel",
      "state": {
       "_model_module_version": "*",
       "_view_module_version": "*",
       "align_content": "",
       "align_self": "",
       "border": "",
       "bottom": "",
       "flex": "",
       "height": "",
       "justify_content": "",
       "left": "",
       "margin": "",
       "max_height": "",
       "max_width": "",
       "min_height": "",
       "min_width": "",
       "msg_throttle": 3,
       "overflow": "",
       "overflow_x": "",
       "overflow_y": "",
       "padding": "",
       "right": "",
       "top": ""
      }
     },
     "34beb78b-5be3-4eef-993d-e8a27deb1992": {
      "model_module": "beakerx",
      "model_module_version": "*",
      "model_name": "BxHTMLModel",
      "state": {
       "background_color": null,
       "color": null,
       "font_family": "",
       "font_size": "",
       "font_style": "",
       "font_weight": "",
       "layout": "IPY_MODEL_4cc944da-7a6a-4652-a294-86f8bfe6074b",
       "msg_throttle": 3,
       "placeholder": "",
       "value": "httpcore-4.4.12.jar, httpclient-4.5.10.jar, clj-tuple-0.2.2.jar, riddley-0.1.12.jar, httpasyncclient-4.1.4.jar, clj-http-3.10.1.jar, commons-codec-1.12.jar, potemkin-0.4.5.jar, httpcore-nio-4.4.10.jar, commons-logging-1.2.jar, commons-io-2.6.jar, slingshot-0.12.2.jar, httpclient-cache-4.5.10.jar, httpmime-4.5.10.jar",
       "visible": true
      }
     },
     "39fcbce8-77ee-459d-a7e4-53dd79537e44": {
      "model_module": "@jupyter-widgets/base",
      "model_module_version": "*",
      "model_name": "LayoutModel",
      "state": {
       "_model_module_version": "*",
       "_view_module_version": "*",
       "align_content": "",
       "align_self": "",
       "border": "",
       "bottom": "",
       "flex": "",
       "height": "",
       "justify_content": "",
       "left": "",
       "margin": "",
       "max_height": "",
       "max_width": "",
       "min_height": "",
       "min_width": "",
       "msg_throttle": 3,
       "overflow": "",
       "overflow_x": "",
       "overflow_y": "",
       "padding": "",
       "right": "",
       "top": ""
      }
     },
     "48e29b49-5847-4607-ab61-8f29a1473d16": {
      "model_module": "beakerx",
      "model_module_version": "*",
      "model_name": "BxHTMLModel",
      "state": {
       "background_color": null,
       "color": null,
       "font_family": "",
       "font_size": "",
       "font_style": "",
       "font_weight": "",
       "layout": "IPY_MODEL_25705cb5-c879-4d34-b895-ce6787a8f5d6",
       "msg_throttle": 3,
       "placeholder": "",
       "value": "data.csv-1.0.0.jar, clojure-1.4.0.jar",
       "visible": true
      }
     },
     "4cc944da-7a6a-4652-a294-86f8bfe6074b": {
      "model_module": "@jupyter-widgets/base",
      "model_module_version": "*",
      "model_name": "LayoutModel",
      "state": {
       "_model_module_version": "*",
       "_view_module_version": "*",
       "align_content": "",
       "align_self": "",
       "border": "",
       "bottom": "",
       "flex": "",
       "height": "",
       "justify_content": "",
       "left": "",
       "margin": "",
       "max_height": "",
       "max_width": "",
       "min_height": "",
       "min_width": "",
       "msg_throttle": 3,
       "overflow": "",
       "overflow_x": "",
       "overflow_y": "",
       "padding": "",
       "right": "",
       "top": ""
      }
     },
     "5929a76b-d097-4e54-8973-c7068c8942a4": {
      "model_module": "@jupyter-widgets/base",
      "model_module_version": "*",
      "model_name": "LayoutModel",
      "state": {
       "_model_module_version": "*",
       "_view_module_version": "*",
       "align_content": "",
       "align_self": "",
       "border": "",
       "bottom": "",
       "flex": "",
       "height": "",
       "justify_content": "",
       "left": "",
       "margin": "",
       "max_height": "",
       "max_width": "",
       "min_height": "",
       "min_width": "",
       "msg_throttle": 3,
       "overflow": "",
       "overflow_x": "",
       "overflow_y": "",
       "padding": "",
       "right": "",
       "top": ""
      }
     },
     "594a8258-081d-45cc-9a89-b335f51de94f": {
      "model_module": "beakerx",
      "model_module_version": "*",
      "model_name": "FoldoutModel",
      "state": {
       "background_color": null,
       "children": [
        "IPY_MODEL_34beb78b-5be3-4eef-993d-e8a27deb1992"
       ],
       "color": null,
       "description": "",
       "disabled": false,
       "font_family": "",
       "font_size": "",
       "font_style": "",
       "font_weight": "",
       "headerLabel": "Added jars: ",
       "hidePreview": false,
       "layout": "IPY_MODEL_3315b4d4-d6d3-4d93-9dd8-cada0ad6f863",
       "msg_throttle": 3,
       "visible": true
      }
     },
     "5a0acae3-3a1f-4b8e-8f54-9dc5d70782ff": {
      "model_module": "@jupyter-widgets/base",
      "model_module_version": "*",
      "model_name": "LayoutModel",
      "state": {
       "_model_module_version": "*",
       "_view_module_version": "*",
       "align_content": "",
       "align_self": "",
       "border": "",
       "bottom": "",
       "flex": "",
       "height": "",
       "justify_content": "",
       "left": "",
       "margin": "",
       "max_height": "",
       "max_width": "",
       "min_height": "",
       "min_width": "",
       "msg_throttle": 3,
       "overflow": "",
       "overflow_x": "",
       "overflow_y": "",
       "padding": "",
       "right": "",
       "top": ""
      }
     },
     "5b7c5a43-0b99-4d12-82ea-5a0a5c40ebed": {
      "model_module": "@jupyter-widgets/base",
      "model_module_version": "*",
      "model_name": "LayoutModel",
      "state": {
       "_model_module_version": "*",
       "_view_module_version": "*",
       "align_content": "",
       "align_self": "",
       "border": "",
       "bottom": "",
       "flex": "",
       "height": "",
       "justify_content": "",
       "left": "",
       "margin": "",
       "max_height": "",
       "max_width": "",
       "min_height": "",
       "min_width": "",
       "msg_throttle": 3,
       "overflow": "",
       "overflow_x": "",
       "overflow_y": "",
       "padding": "",
       "right": "",
       "top": ""
      }
     },
     "615a64ec-ca59-4a8a-9598-a0049e674ee5": {
      "model_module": "@jupyter-widgets/base",
      "model_module_version": "*",
      "model_name": "LayoutModel",
      "state": {
       "_model_module_version": "*",
       "_view_module_version": "*",
       "align_content": "",
       "align_self": "",
       "border": "",
       "bottom": "",
       "flex": "",
       "height": "",
       "justify_content": "",
       "left": "",
       "margin": "",
       "max_height": "",
       "max_width": "",
       "min_height": "",
       "min_width": "",
       "msg_throttle": 3,
       "overflow": "",
       "overflow_x": "",
       "overflow_y": "",
       "padding": "",
       "right": "",
       "top": ""
      }
     },
     "63e9dc22-1712-430c-98f9-81467bab6641": {
      "model_module": "beakerx",
      "model_module_version": "*",
      "model_name": "TableDisplayModel",
      "state": {
       "model": {
        "alignmentForColumn": {},
        "alignmentForType": {},
        "cellHighlighters": [],
        "columnNames": [
         ":c",
         ":y",
         ":t"
        ],
        "columnOrder": [],
        "columnsFrozen": {},
        "columnsFrozenRight": {},
        "columnsVisible": {},
        "contextMenuItems": [],
        "contextMenuTags": {},
        "dataFontSize": null,
        "doubleClickTag": null,
        "fontColor": [],
        "hasDoubleClickAction": false,
        "hasIndex": null,
        "headerFontSize": null,
        "headersVertical": false,
        "rendererForColumn": {},
        "rendererForType": {},
        "stringFormatForColumn": {},
        "stringFormatForTimes": null,
        "stringFormatForType": {},
        "subtype": "ListOfMaps",
        "timeZone": null,
        "tooManyRows": false,
        "tooltips": [],
        "type": "TableDisplay",
        "types": [
         "string",
         "string",
         "string"
        ],
        "values": [
         [
          "Aberdeen City",
          "2011",
          "97184"
         ],
         [
          "Aberdeen City",
          "2012",
          "97230"
         ],
         [
          "Aberdeen City",
          "2013",
          "94117"
         ],
         [
          "Aberdeen City",
          "2014",
          "96130"
         ],
         [
          "Aberdeen City",
          "2015",
          "95241"
         ],
         [
          "Aberdeen City",
          "2016",
          "96123"
         ],
         [
          "Aberdeen City",
          "2017",
          "87786"
         ],
         [
          "Aberdeen City",
          "2018",
          "85540"
         ],
         [
          "Aberdeenshire",
          "2011",
          "148052"
         ],
         [
          "Aberdeenshire",
          "2012",
          "134708"
         ],
         [
          "Aberdeenshire",
          "2013",
          "131809"
         ],
         [
          "Aberdeenshire",
          "2014",
          "131389"
         ],
         [
          "Aberdeenshire",
          "2015",
          "130249"
         ],
         [
          "Aberdeenshire",
          "2016",
          "131863"
         ],
         [
          "Aberdeenshire",
          "2017",
          "127632"
         ],
         [
          "Aberdeenshire",
          "2018",
          "120519"
         ],
         [
          "Angus",
          "2011",
          "62200"
         ],
         [
          "Angus",
          "2012",
          "60803"
         ],
         [
          "Angus",
          "2013",
          "54258"
         ],
         [
          "Angus",
          "2014",
          "58892"
         ],
         [
          "Angus",
          "2015",
          "57609"
         ],
         [
          "Angus",
          "2016",
          "58847"
         ],
         [
          "Angus",
          "2017",
          "56278"
         ],
         [
          "Angus",
          "2018",
          "54619"
         ],
         [
          "Argyll and Bute",
          "2011",
          "46301"
         ],
         [
          "Argyll and Bute",
          "2012",
          "48509"
         ],
         [
          "Argyll and Bute",
          "2013",
          "49244"
         ],
         [
          "Argyll and Bute",
          "2014",
          "52359"
         ],
         [
          "Argyll and Bute",
          "2015",
          "51847"
         ],
         [
          "Argyll and Bute",
          "2016",
          "53689"
         ],
         [
          "Argyll and Bute",
          "2017",
          "50437"
         ],
         [
          "Argyll and Bute",
          "2018",
          "47972"
         ],
         [
          "City of Edinburgh",
          "2011",
          "189697"
         ],
         [
          "City of Edinburgh",
          "2012",
          "187716"
         ],
         [
          "City of Edinburgh",
          "2013",
          "184360"
         ],
         [
          "City of Edinburgh",
          "2014",
          "189525"
         ],
         [
          "City of Edinburgh",
          "2015",
          "189574"
         ],
         [
          "City of Edinburgh",
          "2016",
          "193333"
         ],
         [
          "City of Edinburgh",
          "2017",
          "200720"
         ],
         [
          "City of Edinburgh",
          "2018",
          "193341"
         ],
         [
          "Clackmannanshire",
          "2011",
          "30598"
         ],
         [
          "Clackmannanshire",
          "2012",
          "27736"
         ],
         [
          "Clackmannanshire",
          "2013",
          "26817"
         ],
         [
          "Clackmannanshire",
          "2014",
          "26786"
         ],
         [
          "Clackmannanshire",
          "2015",
          "26621"
         ],
         [
          "Clackmannanshire",
          "2016",
          "27091"
         ],
         [
          "Clackmannanshire",
          "2017",
          "27201"
         ],
         [
          "Clackmannanshire",
          "2018",
          "26122"
         ],
         [
          "Dumfries and Galloway",
          "2011",
          "81620"
         ],
         [
          "Dumfries and Galloway",
          "2012",
          "77709"
         ],
         [
          "Dumfries and Galloway",
          "2013",
          "75501"
         ],
         [
          "Dumfries and Galloway",
          "2014",
          "76454"
         ],
         [
          "Dumfries and Galloway",
          "2015",
          "74092"
         ],
         [
          "Dumfries and Galloway",
          "2016",
          "79807"
         ],
         [
          "Dumfries and Galloway",
          "2017",
          "76289"
         ],
         [
          "Dumfries and Galloway",
          "2018",
          "79325"
         ],
         [
          "Dundee City",
          "2011",
          "68368"
         ],
         [
          "Dundee City",
          "2012",
          "70103"
         ],
         [
          "Dundee City",
          "2013",
          "61485"
         ],
         [
          "Dundee City",
          "2014",
          "63738"
         ],
         [
          "Dundee City",
          "2015",
          "67182"
         ],
         [
          "Dundee City",
          "2016",
          "67998"
         ],
         [
          "Dundee City",
          "2017",
          "64347"
         ],
         [
          "Dundee City",
          "2018",
          "60773"
         ],
         [
          "East Ayrshire",
          "2011",
          "61087"
         ],
         [
          "East Ayrshire",
          "2012",
          "58793"
         ],
         [
          "East Ayrshire",
          "2013",
          "58282"
         ],
         [
          "East Ayrshire",
          "2014",
          "56392"
         ],
         [
          "East Ayrshire",
          "2015",
          "56374"
         ],
         [
          "East Ayrshire",
          "2016",
          "56434"
         ],
         [
          "East Ayrshire",
          "2017",
          "55842"
         ],
         [
          "East Ayrshire",
          "2018",
          "53148"
         ],
         [
          "East Dunbartonshire",
          "2011",
          "58998"
         ],
         [
          "East Dunbartonshire",
          "2012",
          "55234"
         ],
         [
          "East Dunbartonshire",
          "2013",
          "51998"
         ],
         [
          "East Dunbartonshire",
          "2014",
          "52897"
         ],
         [
          "East Dunbartonshire",
          "2015",
          "54191"
         ],
         [
          "East Dunbartonshire",
          "2016",
          "55852"
         ],
         [
          "East Dunbartonshire",
          "2017",
          "56445"
         ],
         [
          "East Dunbartonshire",
          "2018",
          "51643"
         ],
         [
          "East Lothian",
          "2011",
          "53163"
         ],
         [
          "East Lothian",
          "2012",
          "52353"
         ],
         [
          "East Lothian",
          "2013",
          "49335"
         ],
         [
          "East Lothian",
          "2014",
          "52660"
         ],
         [
          "East Lothian",
          "2015",
          "50906"
         ],
         [
          "East Lothian",
          "2016",
          "50874"
         ],
         [
          "East Lothian",
          "2017",
          "50612"
         ],
         [
          "East Lothian",
          "2018",
          "50134"
         ],
         [
          "East Renfrewshire",
          "2011",
          "45191"
         ],
         [
          "East Renfrewshire",
          "2012",
          "43986"
         ],
         [
          "East Renfrewshire",
          "2013",
          "44057"
         ],
         [
          "East Renfrewshire",
          "2014",
          "46224"
         ],
         [
          "East Renfrewshire",
          "2015",
          "46880"
         ],
         [
          "East Renfrewshire",
          "2016",
          "47724"
         ],
         [
          "East Renfrewshire",
          "2017",
          "47564"
         ],
         [
          "East Renfrewshire",
          "2018",
          "43927"
         ],
         [
          "Falkirk",
          "2011",
          "78177"
         ],
         [
          "Falkirk",
          "2012",
          "76111"
         ],
         [
          "Falkirk",
          "2013",
          "71950"
         ],
         [
          "Falkirk",
          "2014",
          "73620"
         ],
         [
          "Falkirk",
          "2015",
          "72329"
         ],
         [
          "Falkirk",
          "2016",
          "71783"
         ],
         [
          "Falkirk",
          "2017",
          "74651"
         ],
         [
          "Falkirk",
          "2018",
          "68571"
         ],
         [
          "Fife",
          "2011",
          "214552"
         ],
         [
          "Fife",
          "2012",
          "195595"
         ],
         [
          "Fife",
          "2013",
          "190784"
         ],
         [
          "Fife",
          "2014",
          "188212"
         ],
         [
          "Fife",
          "2015",
          "191153"
         ],
         [
          "Fife",
          "2016",
          "187746"
         ],
         [
          "Fife",
          "2017",
          "178478"
         ],
         [
          "Fife",
          "2018",
          "167353"
         ],
         [
          "Glasgow City",
          "2011",
          "250709"
         ],
         [
          "Glasgow City",
          "2012",
          "234209"
         ],
         [
          "Glasgow City",
          "2013",
          "227940"
         ],
         [
          "Glasgow City",
          "2014",
          "224488"
         ],
         [
          "Glasgow City",
          "2015",
          "221902"
         ],
         [
          "Glasgow City",
          "2016",
          "216873"
         ],
         [
          "Glasgow City",
          "2017",
          "224524"
         ],
         [
          "Glasgow City",
          "2018",
          "245318"
         ],
         [
          "Highland",
          "2011",
          "125454"
         ],
         [
          "Highland",
          "2012",
          "126183"
         ],
         [
          "Highland",
          "2013",
          "125679"
         ],
         [
          "Highland",
          "2014",
          "131228"
         ],
         [
          "Highland",
          "2015",
          "130780"
         ],
         [
          "Highland",
          "2016",
          "130959"
         ],
         [
          "Highland",
          "2017",
          "130190"
         ],
         [
          "Highland",
          "2018",
          "127880"
         ],
         [
          "Inverclyde",
          "2011",
          "33937"
         ],
         [
          "Inverclyde",
          "2012",
          "33248"
         ],
         [
          "Inverclyde",
          "2013",
          "29183"
         ],
         [
          "Inverclyde",
          "2014",
          "28456"
         ],
         [
          "Inverclyde",
          "2015",
          "28493"
         ],
         [
          "Inverclyde",
          "2016",
          "29363"
         ],
         [
          "Inverclyde",
          "2017",
          "27565"
         ],
         [
          "Inverclyde",
          "2018",
          "28027"
         ],
         [
          "Midlothian",
          "2011",
          "43849"
         ],
         [
          "Midlothian",
          "2012",
          "42701"
         ],
         [
          "Midlothian",
          "2013",
          "40177"
         ],
         [
          "Midlothian",
          "2014",
          "40726"
         ],
         [
          "Midlothian",
          "2015",
          "42077"
         ],
         [
          "Midlothian",
          "2016",
          "42637"
         ],
         [
          "Midlothian",
          "2017",
          "42725"
         ],
         [
          "Midlothian",
          "2018",
          "41890"
         ],
         [
          "Moray",
          "2011",
          "52334"
         ],
         [
          "Moray",
          "2012",
          "49884"
         ],
         [
          "Moray",
          "2013",
          "47533"
         ],
         [
          "Moray",
          "2014",
          "50902"
         ],
         [
          "Moray",
          "2015",
          "50116"
         ],
         [
          "Moray",
          "2016",
          "51950"
         ],
         [
          "Moray",
          "2017",
          "51090"
         ],
         [
          "Moray",
          "2018",
          "47522"
         ],
         [
          "Na h-Eileanan Siar",
          "2011",
          "16509"
         ],
         [
          "Na h-Eileanan Siar",
          "2012",
          "14301"
         ],
         [
          "Na h-Eileanan Siar",
          "2013",
          "12738"
         ],
         [
          "Na h-Eileanan Siar",
          "2014",
          "13479"
         ],
         [
          "Na h-Eileanan Siar",
          "2015",
          "14013"
         ],
         [
          "Na h-Eileanan Siar",
          "2016",
          "14959"
         ],
         [
          "Na h-Eileanan Siar",
          "2017",
          "14453"
         ],
         [
          "Na h-Eileanan Siar",
          "2018",
          "14325"
         ],
         [
          "North Ayrshire",
          "2011",
          "68312"
         ],
         [
          "North Ayrshire",
          "2012",
          "62735"
         ],
         [
          "North Ayrshire",
          "2013",
          "61910"
         ],
         [
          "North Ayrshire",
          "2014",
          "65065"
         ],
         [
          "North Ayrshire",
          "2015",
          "64193"
         ],
         [
          "North Ayrshire",
          "2016",
          "63838"
         ],
         [
          "North Ayrshire",
          "2017",
          "62954"
         ],
         [
          "North Ayrshire",
          "2018",
          "61421"
         ],
         [
          "North Lanarkshire",
          "2011",
          "160246"
         ],
         [
          "North Lanarkshire",
          "2012",
          "155837"
         ],
         [
          "North Lanarkshire",
          "2013",
          "152725"
         ],
         [
          "North Lanarkshire",
          "2014",
          "150309"
         ],
         [
          "North Lanarkshire",
          "2015",
          "155937"
         ],
         [
          "North Lanarkshire",
          "2016",
          "160914"
         ],
         [
          "North Lanarkshire",
          "2017",
          "156813"
         ],
         [
          "North Lanarkshire",
          "2018",
          "146175"
         ],
         [
          "Orkney Islands",
          "2011",
          "10255"
         ],
         [
          "Orkney Islands",
          "2012",
          "10233"
         ],
         [
          "Orkney Islands",
          "2013",
          "9923"
         ],
         [
          "Orkney Islands",
          "2014",
          "10568"
         ],
         [
          "Orkney Islands",
          "2015",
          "9371"
         ],
         [
          "Orkney Islands",
          "2016",
          "10349"
         ],
         [
          "Orkney Islands",
          "2017",
          "10798"
         ],
         [
          "Orkney Islands",
          "2018",
          "10221"
         ],
         [
          "Perth and Kinross",
          "2011",
          "79918"
         ],
         [
          "Perth and Kinross",
          "2012",
          "75014"
         ],
         [
          "Perth and Kinross",
          "2013",
          "74267"
         ],
         [
          "Perth and Kinross",
          "2014",
          "74949"
         ],
         [
          "Perth and Kinross",
          "2015",
          "76187"
         ],
         [
          "Perth and Kinross",
          "2016",
          "78730"
         ],
         [
          "Perth and Kinross",
          "2017",
          "74789"
         ],
         [
          "Perth and Kinross",
          "2018",
          "71815"
         ],
         [
          "Renfrewshire",
          "2011",
          "82571"
         ],
         [
          "Renfrewshire",
          "2012",
          "82126"
         ],
         [
          "Renfrewshire",
          "2013",
          "78417"
         ],
         [
          "Renfrewshire",
          "2014",
          "80858"
         ],
         [
          "Renfrewshire",
          "2015",
          "83059"
         ],
         [
          "Renfrewshire",
          "2016",
          "83661"
         ],
         [
          "Renfrewshire",
          "2017",
          "83526"
         ],
         [
          "Renfrewshire",
          "2018",
          "81255"
         ],
         [
          "Scotland",
          "2011",
          "2606759"
         ],
         [
          "Scotland",
          "2012",
          "2500995"
         ],
         [
          "Scotland",
          "2013",
          "2412630"
         ],
         [
          "Scotland",
          "2014",
          "2459557"
         ],
         [
          "Scotland",
          "2015",
          "2468781"
         ],
         [
          "Scotland",
          "2016",
          "2498978"
         ],
         [
          "Scotland",
          "2017",
          "2460820"
         ],
         [
          "Scotland",
          "2018",
          "2405246"
         ],
         [
          "Scottish Borders",
          "2011",
          "53822"
         ],
         [
          "Scottish Borders",
          "2012",
          "52861"
         ],
         [
          "Scottish Borders",
          "2013",
          "51242"
         ],
         [
          "Scottish Borders",
          "2014",
          "49952"
         ],
         [
          "Scottish Borders",
          "2015",
          "49848"
         ],
         [
          "Scottish Borders",
          "2016",
          "51921"
         ],
         [
          "Scottish Borders",
          "2017",
          "53471"
         ],
         [
          "Scottish Borders",
          "2018",
          "52491"
         ],
         [
          "Shetland Islands",
          "2011",
          "11792"
         ],
         [
          "Shetland Islands",
          "2012",
          "10859"
         ],
         [
          "Shetland Islands",
          "2013",
          "10140"
         ],
         [
          "Shetland Islands",
          "2014",
          "9942"
         ],
         [
          "Shetland Islands",
          "2015",
          "10250"
         ],
         [
          "Shetland Islands",
          "2016",
          "9996"
         ],
         [
          "Shetland Islands",
          "2017",
          "9754"
         ],
         [
          "Shetland Islands",
          "2018",
          "9649"
         ],
         [
          "South Ayrshire",
          "2011",
          "58481"
         ],
         [
          "South Ayrshire",
          "2012",
          "57627"
         ],
         [
          "South Ayrshire",
          "2013",
          "55423"
         ],
         [
          "South Ayrshire",
          "2014",
          "55477"
         ],
         [
          "South Ayrshire",
          "2015",
          "55653"
         ],
         [
          "South Ayrshire",
          "2016",
          "56485"
         ],
         [
          "South Ayrshire",
          "2017",
          "56772"
         ],
         [
          "South Ayrshire",
          "2018",
          "55814"
         ],
         [
          "South Lanarkshire",
          "2011",
          "163214"
         ],
         [
          "South Lanarkshire",
          "2012",
          "151923"
         ],
         [
          "South Lanarkshire",
          "2013",
          "144734"
         ],
         [
          "South Lanarkshire",
          "2014",
          "153492"
         ],
         [
          "South Lanarkshire",
          "2015",
          "151656"
         ],
         [
          "South Lanarkshire",
          "2016",
          "152535"
         ],
         [
          "South Lanarkshire",
          "2017",
          "151740"
         ],
         [
          "South Lanarkshire",
          "2018",
          "150470"
         ],
         [
          "Stirling",
          "2011",
          "44024"
         ],
         [
          "Stirling",
          "2012",
          "43190"
         ],
         [
          "Stirling",
          "2013",
          "39923"
         ],
         [
          "Stirling",
          "2014",
          "40555"
         ],
         [
          "Stirling",
          "2015",
          "41929"
         ],
         [
          "Stirling",
          "2016",
          "44271"
         ],
         [
          "Stirling",
          "2017",
          "40774"
         ],
         [
          "Stirling",
          "2018",
          "41925"
         ],
         [
          "West Dunbartonshire",
          "2011",
          "41168"
         ],
         [
          "West Dunbartonshire",
          "2012",
          "38944"
         ],
         [
          "West Dunbartonshire",
          "2013",
          "36206"
         ],
         [
          "West Dunbartonshire",
          "2014",
          "40338"
         ],
         [
          "West Dunbartonshire",
          "2015",
          "45088"
         ],
         [
          "West Dunbartonshire",
          "2016",
          "44936"
         ],
         [
          "West Dunbartonshire",
          "2017",
          "43551"
         ],
         [
          "West Dunbartonshire",
          "2018",
          "41867"
         ],
         [
          "West Lothian",
          "2011",
          "74976"
         ],
         [
          "West Lothian",
          "2012",
          "72532"
         ],
         [
          "West Lothian",
          "2013",
          "70473"
         ],
         [
          "West Lothian",
          "2014",
          "73498"
         ],
         [
          "West Lothian",
          "2015",
          "73982"
         ],
         [
          "West Lothian",
          "2016",
          "75438"
         ],
         [
          "West Lothian",
          "2017",
          "71051"
         ],
         [
          "West Lothian",
          "2018",
          "74194"
         ]
        ]
       }
      }
     },
     "67a2e894-6d84-464a-a48d-4d86e87ff6c9": {
      "model_module": "@jupyter-widgets/base",
      "model_module_version": "*",
      "model_name": "LayoutModel",
      "state": {
       "_model_module_version": "*",
       "_view_module_version": "*",
       "align_content": "",
       "align_self": "",
       "border": "",
       "bottom": "",
       "flex": "",
       "height": "",
       "justify_content": "",
       "left": "",
       "margin": "",
       "max_height": "",
       "max_width": "",
       "min_height": "",
       "min_width": "",
       "msg_throttle": 3,
       "overflow": "",
       "overflow_x": "",
       "overflow_y": "",
       "padding": "",
       "right": "",
       "top": ""
      }
     },
     "6a344b14-eecb-4204-b077-be03d518a130": {
      "model_module": "beakerx",
      "model_module_version": "*",
      "model_name": "TableDisplayModel",
      "state": {
       "model": {
        "alignmentForColumn": {},
        "alignmentForType": {},
        "cellHighlighters": [],
        "columnNames": [
         ":c",
         ":y",
         ":t2"
        ],
        "columnOrder": [],
        "columnsFrozen": {},
        "columnsFrozenRight": {},
        "columnsVisible": {},
        "contextMenuItems": [],
        "contextMenuTags": {},
        "dataFontSize": null,
        "doubleClickTag": null,
        "fontColor": [],
        "hasDoubleClickAction": false,
        "hasIndex": null,
        "headerFontSize": null,
        "headersVertical": false,
        "rendererForColumn": {},
        "rendererForType": {},
        "stringFormatForColumn": {},
        "stringFormatForTimes": null,
        "stringFormatForType": {},
        "subtype": "ListOfMaps",
        "timeZone": null,
        "tooManyRows": false,
        "tooltips": [],
        "type": "TableDisplay",
        "types": [
         "string",
         "string",
         "string"
        ],
        "values": [
         [
          "Aberdeen City",
          "2011",
          "0.436860559201654229973928"
         ],
         [
          "Aberdeen City",
          "2012",
          "0.432306255835667600373483"
         ],
         [
          "Aberdeen City",
          "2013",
          "0.414484520192011274056458"
         ],
         [
          "Aberdeen City",
          "2014",
          "0.419928359252140485759217"
         ],
         [
          "Aberdeen City",
          "2015",
          "0.413462122856522682873888"
         ],
         [
          "Aberdeen City",
          "2016",
          "0.418217020536025060911939"
         ],
         [
          "Aberdeen City",
          "2017",
          "0.38368006993006993006993"
         ],
         [
          "Aberdeen City",
          "2018",
          "0.375900861311302513622781"
         ],
         [
          "Aberdeenshire",
          "2011",
          "0.583686181746501084171102"
         ],
         [
          "Aberdeenshire",
          "2012",
          "0.527109093754891219283143"
         ],
         [
          "Aberdeenshire",
          "2013",
          "0.511343445707413585754743"
         ],
         [
          "Aberdeenshire",
          "2014",
          "0.5043142824242889494492"
         ],
         [
          "Aberdeenshire",
          "2015",
          "0.497209497633226446785769"
         ],
         [
          "Aberdeenshire",
          "2016",
          "0.502929173500133490979824"
         ],
         [
          "Aberdeenshire",
          "2017",
          "0.487517188693659281894576"
         ],
         [
          "Aberdeenshire",
          "2018",
          "0.46092859601483917849084"
         ],
         [
          "Angus",
          "2011",
          "0.535283993115318416523236"
         ],
         [
          "Angus",
          "2012",
          "0.523171571158148339356393"
         ],
         [
          "Angus",
          "2013",
          "0.466574941955456187118411"
         ],
         [
          "Angus",
          "2014",
          "0.504471475072811375706699"
         ],
         [
          "Angus",
          "2015",
          "0.492805816937553464499572"
         ],
         [
          "Angus",
          "2016",
          "0.505037761757638173704085"
         ],
         [
          "Angus",
          "2017",
          "0.483986928104575163398693"
         ],
         [
          "Angus",
          "2018",
          "0.470691140985866942433644"
         ],
         [
          "Argyll and Bute",
          "2011",
          "0.520645451478691105363769"
         ],
         [
          "Argyll and Bute",
          "2012",
          "0.558152111379588079622598"
         ],
         [
          "Argyll and Bute",
          "2013",
          "0.559273140261215218625781"
         ],
         [
          "Argyll and Bute",
          "2014",
          "0.597364517969195664575014"
         ],
         [
          "Argyll and Bute",
          "2015",
          "0.596696973184486131890897"
         ],
         [
          "Argyll and Bute",
          "2016",
          "0.616194192585791346264203"
         ],
         [
          "Argyll and Bute",
          "2017",
          "0.581004492569980417002649"
         ],
         [
          "Argyll and Bute",
          "2018",
          "0.55613262230466032923719"
         ],
         [
          "City of Edinburgh",
          "2011",
          "0.396905469305770598819936"
         ],
         [
          "City of Edinburgh",
          "2012",
          "0.388943911484988500507635"
         ],
         [
          "City of Edinburgh",
          "2013",
          "0.378205391211586591720346"
         ],
         [
          "City of Edinburgh",
          "2014",
          "0.38473640405188688820771"
         ],
         [
          "City of Edinburgh",
          "2015",
          "0.380052525009522663940178"
         ],
         [
          "City of Edinburgh",
          "2016",
          "0.381199597768006782735572"
         ],
         [
          "City of Edinburgh",
          "2017",
          "0.39110695426823327682625"
         ],
         [
          "City of Edinburgh",
          "2018",
          "0.372885245901639344262295"
         ],
         [
          "Clackmannanshire",
          "2011",
          "0.594135922330097087378641"
         ],
         [
          "Clackmannanshire",
          "2012",
          "0.540873634945397815912637"
         ],
         [
          "Clackmannanshire",
          "2013",
          "0.522952418096723868954758"
         ],
         [
          "Clackmannanshire",
          "2014",
          "0.523266262941980855635866"
         ],
         [
          "Clackmannanshire",
          "2015",
          "0.518321651090342679127726"
         ],
         [
          "Clackmannanshire",
          "2016",
          "0.527575462512171372930867"
         ],
         [
          "Clackmannanshire",
          "2017",
          "0.528688046647230320699708"
         ],
         [
          "Clackmannanshire",
          "2018",
          "0.508210116731517509727626"
         ],
         [
          "Dumfries and Galloway",
          "2011",
          "0.539066111881645862228387"
         ],
         [
          "Dumfries and Galloway",
          "2012",
          "0.515175019888623707239459"
         ],
         [
          "Dumfries and Galloway",
          "2013",
          "0.502402182592494011179132"
         ],
         [
          "Dumfries and Galloway",
          "2014",
          "0.509829287810082688716991"
         ],
         [
          "Dumfries and Galloway",
          "2015",
          "0.495035745306340616021915"
         ],
         [
          "Dumfries and Galloway",
          "2016",
          "0.533754681647940074906367"
         ],
         [
          "Dumfries and Galloway",
          "2017",
          "0.511320375335120643431635"
         ],
         [
          "Dumfries and Galloway",
          "2018",
          "0.533133947173869211640567"
         ],
         [
          "Dundee City",
          "2011",
          "0.464456521739130434782609"
         ],
         [
          "Dundee City",
          "2012",
          "0.474374069562863716335093"
         ],
         [
          "Dundee City",
          "2013",
          "0.415158676569885212694126"
         ],
         [
          "Dundee City",
          "2014",
          "0.430284209815702423546884"
         ],
         [
          "Dundee City",
          "2015",
          "0.453289251737399635652115"
         ],
         [
          "Dundee City",
          "2016",
          "0.458609293855803601537735"
         ],
         [
          "Dundee City",
          "2017",
          "0.432701230583013919709502"
         ],
         [
          "Dundee City",
          "2018",
          "0.40855798319327731092437"
         ],
         [
          "East Ayrshire",
          "2011",
          "0.497897139131143532480235"
         ],
         [
          "East Ayrshire",
          "2012",
          "0.479043428664548195225291"
         ],
         [
          "East Ayrshire",
          "2013",
          "0.476043453401943967981704"
         ],
         [
          "East Ayrshire",
          "2014",
          "0.461737492835503152378613"
         ],
         [
          "East Ayrshire",
          "2015",
          "0.461854825495657873177126"
         ],
         [
          "East Ayrshire",
          "2016",
          "0.461816693944353518821604"
         ],
         [
          "East Ayrshire",
          "2017",
          "0.457946531080859439068394"
         ],
         [
          "East Ayrshire",
          "2018",
          "0.436211424819435325016415"
         ],
         [
          "East Dunbartonshire",
          "2011",
          "0.561885714285714285714286"
         ],
         [
          "East Dunbartonshire",
          "2012",
          "0.52166603702304495655459"
         ],
         [
          "East Dunbartonshire",
          "2013",
          "0.491288737717309145880574"
         ],
         [
          "East Dunbartonshire",
          "2014",
          "0.495707993627588792053228"
         ],
         [
          "East Dunbartonshire",
          "2015",
          "0.506647344801795063575168"
         ],
         [
          "East Dunbartonshire",
          "2016",
          "0.519360238050957783150456"
         ],
         [
          "East Dunbartonshire",
          "2017",
          "0.522010542865069823360769"
         ],
         [
          "East Dunbartonshire",
          "2018",
          "0.476719283670266777439306"
         ],
         [
          "East Lothian",
          "2011",
          "0.532055644515612489991994"
         ],
         [
          "East Lothian",
          "2012",
          "0.519066032123735871505057"
         ],
         [
          "East Lothian",
          "2013",
          "0.48658644836768912121511"
         ],
         [
          "East Lothian",
          "2014",
          "0.51581937506122049172299"
         ],
         [
          "East Lothian",
          "2015",
          "0.493993207180980106744299"
         ],
         [
          "East Lothian",
          "2016",
          "0.488750120088385051397829"
         ],
         [
          "East Lothian",
          "2017",
          "0.482754673788630293781"
         ],
         [
          "East Lothian",
          "2018",
          "0.473901124870025522261083"
         ],
         [
          "East Renfrewshire",
          "2011",
          "0.497643431340160775245017"
         ],
         [
          "East Renfrewshire",
          "2012",
          "0.483150263620386643233743"
         ],
         [
          "East Renfrewshire",
          "2013",
          "0.481339451545941221457446"
         ],
         [
          "East Renfrewshire",
          "2014",
          "0.500205605453955199653717"
         ],
         [
          "East Renfrewshire",
          "2015",
          "0.5044114482461803313966"
         ],
         [
          "East Renfrewshire",
          "2016",
          "0.508730412535976974736169"
         ],
         [
          "East Renfrewshire",
          "2017",
          "0.501941747572815533980583"
         ],
         [
          "East Renfrewshire",
          "2018",
          "0.461563517915309446254072"
         ],
         [
          "Falkirk",
          "2011",
          "0.5003328"
         ],
         [
          "Falkirk",
          "2012",
          "0.485401785714285714285714"
         ],
         [
          "Falkirk",
          "2013",
          "0.457813693051667090862815"
         ],
         [
          "Falkirk",
          "2014",
          "0.466865368761494070644936"
         ],
         [
          "Falkirk",
          "2015",
          "0.456449577180360974378392"
         ],
         [
          "Falkirk",
          "2016",
          "0.450389007403689296022086"
         ],
         [
          "Falkirk",
          "2017",
          "0.466189970648847811153438"
         ],
         [
          "Falkirk",
          "2018",
          "0.427659972558313583634776"
         ],
         [
          "Fife",
          "2011",
          "0.587330960854092526690391"
         ],
         [
          "Fife",
          "2012",
          "0.534106113978318451161902"
         ],
         [
          "Fife",
          "2013",
          "0.519989097846824747887708"
         ],
         [
          "Fife",
          "2014",
          "0.512490129339686861810756"
         ],
         [
          "Fife",
          "2015",
          "0.519324603347098456857205"
         ],
         [
          "Fife",
          "2016",
          "0.506969459671104150352388"
         ],
         [
          "Fife",
          "2017",
          "0.480541719393661990791847"
         ],
         [
          "Fife",
          "2018",
          "0.449982522653330106746256"
         ],
         [
          "Glasgow City",
          "2011",
          "0.422738002900212457424207"
         ],
         [
          "Glasgow City",
          "2012",
          "0.393582267632379383938024"
         ],
         [
          "Glasgow City",
          "2013",
          "0.382116274391470529068598"
         ],
         [
          "Glasgow City",
          "2014",
          "0.374371289440330865185778"
         ],
         [
          "Glasgow City",
          "2015",
          "0.365969588019922815582017"
         ],
         [
          "Glasgow City",
          "2016",
          "0.352598891183117368754776"
         ],
         [
          "Glasgow City",
          "2017",
          "0.361540691121058903094908"
         ],
         [
          "Glasgow City",
          "2018",
          "0.391625293338228955476445"
         ],
         [
          "Highland",
          "2011",
          "0.539053839212821724745413"
         ],
         [
          "Highland",
          "2012",
          "0.541813731804714672162824"
         ],
         [
          "Highland",
          "2013",
          "0.539556948439445326922251"
         ],
         [
          "Highland",
          "2014",
          "0.563016989874721125793719"
         ],
         [
          "Highland",
          "2015",
          "0.558626286788261928153432"
         ],
         [
          "Highland",
          "2016",
          "0.557818290241512970140989"
         ],
         [
          "Highland",
          "2017",
          "0.553575984352410919295858"
         ],
         [
          "Highland",
          "2018",
          "0.542922645835102318077609"
         ],
         [
          "Inverclyde",
          "2011",
          "0.417840433390790445703029"
         ],
         [
          "Inverclyde",
          "2012",
          "0.412046102367083901350849"
         ],
         [
          "Inverclyde",
          "2013",
          "0.363243714214588000995768"
         ],
         [
          "Inverclyde",
          "2014",
          "0.356189760921266741769934"
         ],
         [
          "Inverclyde",
          "2015",
          "0.358402515723270440251572"
         ],
         [
          "Inverclyde",
          "2016",
          "0.370932289034866093986862"
         ],
         [
          "Inverclyde",
          "2017",
          "0.349987303199593702386998"
         ],
         [
          "Inverclyde",
          "2018",
          "0.358630838131797824696097"
         ],
         [
          "Midlothian",
          "2011",
          "0.525452366686638705811863"
         ],
         [
          "Midlothian",
          "2012",
          "0.506896961063627730294397"
         ],
         [
          "Midlothian",
          "2013",
          "0.47428874985243772872152"
         ],
         [
          "Midlothian",
          "2014",
          "0.472349802829969844583623"
         ],
         [
          "Midlothian",
          "2015",
          "0.481485295800434832360682"
         ],
         [
          "Midlothian",
          "2016",
          "0.481175939510213294210586"
         ],
         [
          "Midlothian",
          "2017",
          "0.474247974247974247974248"
         ],
         [
          "Midlothian",
          "2018",
          "0.458616159404423034814977"
         ],
         [
          "Moray",
          "2011",
          "0.559901572697122071252808"
         ],
         [
          "Moray",
          "2012",
          "0.536791133110943721080383"
         ],
         [
          "Moray",
          "2013",
          "0.503740991945739720220432"
         ],
         [
          "Moray",
          "2014",
          "0.537110900073863036826"
         ],
         [
          "Moray",
          "2015",
          "0.524719924615223536802429"
         ],
         [
          "Moray",
          "2016",
          "0.540751535338815447069845"
         ],
         [
          "Moray",
          "2017",
          "0.533409897682188348298183"
         ],
         [
          "Moray",
          "2018",
          "0.497508375209380234505863"
         ],
         [
          "Na h-Eileanan Siar",
          "2011",
          "0.59620801733477789815818"
         ],
         [
          "Na h-Eileanan Siar",
          "2012",
          "0.518904208998548621190131"
         ],
         [
          "Na h-Eileanan Siar",
          "2013",
          "0.464890510948905109489051"
         ],
         [
          "Na h-Eileanan Siar",
          "2014",
          "0.494642201834862385321101"
         ],
         [
          "Na h-Eileanan Siar",
          "2015",
          "0.517657923900997414111563"
         ],
         [
          "Na h-Eileanan Siar",
          "2016",
          "0.556096654275092936802974"
         ],
         [
          "Na h-Eileanan Siar",
          "2017",
          "0.536289424860853432282004"
         ],
         [
          "Na h-Eileanan Siar",
          "2018",
          "0.533917256802087215803205"
         ],
         [
          "North Ayrshire",
          "2011",
          "0.494691867622564993844594"
         ],
         [
          "North Ayrshire",
          "2012",
          "0.456022388602166169949844"
         ],
         [
          "North Ayrshire",
          "2013",
          "0.452095808383233532934132"
         ],
         [
          "North Ayrshire",
          "2014",
          "0.47673651817116060961313"
         ],
         [
          "North Ayrshire",
          "2015",
          "0.471556600308528612355836"
         ],
         [
          "North Ayrshire",
          "2016",
          "0.469777025535359481933917"
         ],
         [
          "North Ayrshire",
          "2017",
          "0.463612931732822740997128"
         ],
         [
          "North Ayrshire",
          "2018",
          "0.454028681253696037847428"
         ],
         [
          "North Lanarkshire",
          "2011",
          "0.474493663389790358877176"
         ],
         [
          "North Lanarkshire",
          "2012",
          "0.461206309745775252301045"
         ],
         [
          "North Lanarkshire",
          "2013",
          "0.452143406951270057433833"
         ],
         [
          "North Lanarkshire",
          "2014",
          "0.444701183431952662721893"
         ],
         [
          "North Lanarkshire",
          "2015",
          "0.460997457577011766097085"
         ],
         [
          "North Lanarkshire",
          "2016",
          "0.474127110403960045964819"
         ],
         [
          "North Lanarkshire",
          "2017",
          "0.461268972820331803741617"
         ],
         [
          "North Lanarkshire",
          "2018",
          "0.429698982891410429772473"
         ],
         [
          "Orkney Islands",
          "2011",
          "0.478758169934640522875817"
         ],
         [
          "Orkney Islands",
          "2012",
          "0.475290292614955875522527"
         ],
         [
          "Orkney Islands",
          "2013",
          "0.460250463821892393320965"
         ],
         [
          "Orkney Islands",
          "2014",
          "0.489712696941612604263207"
         ],
         [
          "Orkney Islands",
          "2015",
          "0.432441162898015689893862"
         ],
         [
          "Orkney Islands",
          "2016",
          "0.473638443935926773455378"
         ],
         [
          "Orkney Islands",
          "2017",
          "0.490818181818181818181818"
         ],
         [
          "Orkney Islands",
          "2018",
          "0.460612888688598467778279"
         ],
         [
          "Perth and Kinross",
          "2011",
          "0.544215185563500170241743"
         ],
         [
          "Perth and Kinross",
          "2012",
          "0.507743332882090158386354"
         ],
         [
          "Perth and Kinross",
          "2013",
          "0.502585098463828923326792"
         ],
         [
          "Perth and Kinross",
          "2014",
          "0.503249848922312495803398"
         ],
         [
          "Perth and Kinross",
          "2015",
          "0.508150470219435736677116"
         ],
         [
          "Perth and Kinross",
          "2016",
          "0.522498009025749933634192"
         ],
         [
          "Perth and Kinross",
          "2017",
          "0.494963600264725347452019"
         ],
         [
          "Perth and Kinross",
          "2018",
          "0.474684380990151364928283"
         ],
         [
          "Renfrewshire",
          "2011",
          "0.472644533485975958786491"
         ],
         [
          "Renfrewshire",
          "2012",
          "0.471176133103843947217441"
         ],
         [
          "Renfrewshire",
          "2013",
          "0.45095750186899764218759"
         ],
         [
          "Renfrewshire",
          "2014",
          "0.464087700166446650978592"
         ],
         [
          "Renfrewshire",
          "2015",
          "0.475819202566452795600367"
         ],
         [
          "Renfrewshire",
          "2016",
          "0.475535724435855169669755"
         ],
         [
          "Renfrewshire",
          "2017",
          "0.472351976474580105185772"
         ],
         [
          "Renfrewshire",
          "2018",
          "0.457027954328139940379099"
         ],
         [
          "Scotland",
          "2011",
          "0.491850600954734994999906"
         ],
         [
          "Scotland",
          "2012",
          "0.470678071364046973803071"
         ],
         [
          "Scotland",
          "2013",
          "0.4528464440565347147925"
         ],
         [
          "Scotland",
          "2014",
          "0.45993660707607150871419"
         ],
         [
          "Scotland",
          "2015",
          "0.459479061976549413735343"
         ],
         [
          "Scotland",
          "2016",
          "0.462371269450663311562159"
         ],
         [
          "Scotland",
          "2017",
          "0.453624096740893673499484"
         ],
         [
          "Scotland",
          "2018",
          "0.44229528695684154392159"
         ],
         [
          "Scottish Borders",
          "2011",
          "0.472620302072356866877415"
         ],
         [
          "Scottish Borders",
          "2012",
          "0.464834681674287724234963"
         ],
         [
          "Scottish Borders",
          "2013",
          "0.449964875307341060765718"
         ],
         [
          "Scottish Borders",
          "2014",
          "0.438021746755524377411435"
         ],
         [
          "Scottish Borders",
          "2015",
          "0.43714811891607471717969"
         ],
         [
          "Scottish Borders",
          "2016",
          "0.453339736313629616694316"
         ],
         [
          "Scottish Borders",
          "2017",
          "0.464884367936011128499391"
         ],
         [
          "Scottish Borders",
          "2018",
          "0.455374338509586188947688"
         ],
         [
          "Shetland Islands",
          "2011",
          "0.50740103270223752151463"
         ],
         [
          "Shetland Islands",
          "2012",
          "0.467858681602757432141318"
         ],
         [
          "Shetland Islands",
          "2013",
          "0.437068965517241379310345"
         ],
         [
          "Shetland Islands",
          "2014",
          "0.428165374677002583979328"
         ],
         [
          "Shetland Islands",
          "2015",
          "0.441810344827586206896552"
         ],
         [
          "Shetland Islands",
          "2016",
          "0.43086206896551724137931"
         ],
         [
          "Shetland Islands",
          "2017",
          "0.42261698440207972270364"
         ],
         [
          "Shetland Islands",
          "2018",
          "0.419704219225750326228795"
         ],
         [
          "South Ayrshire",
          "2011",
          "0.517622588068684722959816"
         ],
         [
          "South Ayrshire",
          "2012",
          "0.51033475026567481402763"
         ],
         [
          "South Ayrshire",
          "2013",
          "0.491033932843093824754142"
         ],
         [
          "South Ayrshire",
          "2014",
          "0.492997422909446369856927"
         ],
         [
          "South Ayrshire",
          "2015",
          "0.49513345195729537366548"
         ],
         [
          "South Ayrshire",
          "2016",
          "0.502222814972881657330844"
         ],
         [
          "South Ayrshire",
          "2017",
          "0.503833865814696485623003"
         ],
         [
          "South Ayrshire",
          "2018",
          "0.495904042647712127943136"
         ],
         [
          "South Lanarkshire",
          "2011",
          "0.519955399808856323669959"
         ],
         [
          "South Lanarkshire",
          "2012",
          "0.483323258995323386250119"
         ],
         [
          "South Lanarkshire",
          "2013",
          "0.459750325593214955052254"
         ],
         [
          "South Lanarkshire",
          "2014",
          "0.486812559467174119885823"
         ],
         [
          "South Lanarkshire",
          "2015",
          "0.479574992884925528887202"
         ],
         [
          "South Lanarkshire",
          "2016",
          "0.48103122043519394512772"
         ],
         [
          "South Lanarkshire",
          "2017",
          "0.476914856837539680045259"
         ],
         [
          "South Lanarkshire",
          "2018",
          "0.471663218606983888157482"
         ],
         [
          "Stirling",
          "2011",
          "0.48736853758441270895605"
         ],
         [
          "Stirling",
          "2012",
          "0.474563234809361608614438"
         ],
         [
          "Stirling",
          "2013",
          "0.437608242902553984434945"
         ],
         [
          "Stirling",
          "2014",
          "0.443127185314685314685315"
         ],
         [
          "Stirling",
          "2015",
          "0.451675105030701281913175"
         ],
         [
          "Stirling",
          "2016",
          "0.472224"
         ],
         [
          "Stirling",
          "2017",
          "0.433765957446808510638298"
         ],
         [
          "Stirling",
          "2018",
          "0.444450333934061274249973"
         ],
         [
          "West Dunbartonshire",
          "2011",
          "0.454342787771769120406136"
         ],
         [
          "West Dunbartonshire",
          "2012",
          "0.431082576931591764445428"
         ],
         [
          "West Dunbartonshire",
          "2013",
          "0.403184855233853006681514"
         ],
         [
          "West Dunbartonshire",
          "2014",
          "0.449648868576524356259057"
         ],
         [
          "West Dunbartonshire",
          "2015",
          "0.503270454291773635450385"
         ],
         [
          "West Dunbartonshire",
          "2016",
          "0.500066770531938571110617"
         ],
         [
          "West Dunbartonshire",
          "2017",
          "0.486006026113157013726147"
         ],
         [
          "West Dunbartonshire",
          "2018",
          "0.469729608437114327386963"
         ],
         [
          "West Lothian",
          "2011",
          "0.4277010838562464346834"
         ],
         [
          "West Lothian",
          "2012",
          "0.412090222146468950627805"
         ],
         [
          "West Lothian",
          "2013",
          "0.400051089918256130790191"
         ],
         [
          "West Lothian",
          "2014",
          "0.41477426636568848758465"
         ],
         [
          "West Lothian",
          "2015",
          "0.414348921870624474936992"
         ],
         [
          "West Lothian",
          "2016",
          "0.418797535113529117859324"
         ],
         [
          "West Lothian",
          "2017",
          "0.391875792840990568639347"
         ],
         [
          "West Lothian",
          "2018",
          "0.407345997584275831777753"
         ]
        ]
       }
      }
     },
     "732e1e05-eb00-46ca-8d43-6c9f92378867": {
      "model_module": "beakerx",
      "model_module_version": "*",
      "model_name": "FoldoutModel",
      "state": {
       "background_color": null,
       "children": [
        "IPY_MODEL_d7763bb9-cfcf-4b44-9192-566d871666d3"
       ],
       "color": null,
       "description": "",
       "disabled": false,
       "font_family": "",
       "font_size": "",
       "font_style": "",
       "font_weight": "",
       "headerLabel": "Added jars: ",
       "hidePreview": false,
       "layout": "IPY_MODEL_74f728d0-7d68-4c17-b1b9-c2d7be9c7054",
       "msg_throttle": 3,
       "visible": true
      }
     },
     "74f728d0-7d68-4c17-b1b9-c2d7be9c7054": {
      "model_module": "@jupyter-widgets/base",
      "model_module_version": "*",
      "model_name": "LayoutModel",
      "state": {
       "_model_module_version": "*",
       "_view_module_version": "*",
       "align_content": "",
       "align_self": "",
       "border": "",
       "bottom": "",
       "flex": "",
       "height": "",
       "justify_content": "",
       "left": "",
       "margin": "",
       "max_height": "",
       "max_width": "",
       "min_height": "",
       "min_width": "",
       "msg_throttle": 3,
       "overflow": "",
       "overflow_x": "",
       "overflow_y": "",
       "padding": "",
       "right": "",
       "top": ""
      }
     },
     "a1741625-338c-4a24-a24e-209f3a5e24e5": {
      "model_module": "beakerx",
      "model_module_version": "*",
      "model_name": "TableDisplayModel",
      "state": {
       "model": {
        "alignmentForColumn": {},
        "alignmentForType": {},
        "cellHighlighters": [],
        "columnNames": [
         ":dataset",
         ":name",
         ":publisherLabel"
        ],
        "columnOrder": [],
        "columnsFrozen": {},
        "columnsFrozenRight": {},
        "columnsVisible": {},
        "contextMenuItems": [],
        "contextMenuTags": {},
        "dataFontSize": null,
        "doubleClickTag": null,
        "fontColor": [],
        "hasDoubleClickAction": false,
        "hasIndex": null,
        "headerFontSize": null,
        "headersVertical": false,
        "rendererForColumn": {},
        "rendererForType": {},
        "stringFormatForColumn": {},
        "stringFormatForTimes": null,
        "stringFormatForType": {},
        "subtype": "ListOfMaps",
        "timeZone": null,
        "tooManyRows": false,
        "tooltips": [],
        "type": "TableDisplay",
        "types": [
         "string",
         "string",
         "string"
        ],
        "values": [
         [
          "http://statistics.gov.scot/data/household-waste",
          "Generation and Management of Household Waste",
          "SEPA"
         ],
         [
          "http://statistics.gov.scot/data/population-estimates-current-geographic-boundaries",
          "Population Estimates (Current Geographic Boundaries)",
          "National Records of Scotland"
         ]
        ]
       }
      }
     },
     "ab8a1050-228f-4ea4-9510-248fe9db795f": {
      "model_module": "@jupyter-widgets/base",
      "model_module_version": "*",
      "model_name": "LayoutModel",
      "state": {
       "_model_module_version": "*",
       "_view_module_version": "*",
       "align_content": "",
       "align_self": "",
       "border": "",
       "bottom": "",
       "flex": "",
       "height": "",
       "justify_content": "",
       "left": "",
       "margin": "",
       "max_height": "",
       "max_width": "",
       "min_height": "",
       "min_width": "",
       "msg_throttle": 3,
       "overflow": "",
       "overflow_x": "",
       "overflow_y": "",
       "padding": "",
       "right": "",
       "top": ""
      }
     },
     "b14abd1d-b050-45fb-8b20-be0b6dcb11f5": {
      "model_module": "beakerx",
      "model_module_version": "*",
      "model_name": "TableDisplayModel",
      "state": {
       "model": {
        "alignmentForColumn": {},
        "alignmentForType": {},
        "cellHighlighters": [],
        "columnNames": [
         ":dataset",
         ":name",
         ":publisherLabel"
        ],
        "columnOrder": [],
        "columnsFrozen": {},
        "columnsFrozenRight": {},
        "columnsVisible": {},
        "contextMenuItems": [],
        "contextMenuTags": {},
        "dataFontSize": null,
        "doubleClickTag": null,
        "fontColor": [],
        "hasDoubleClickAction": false,
        "hasIndex": null,
        "headerFontSize": null,
        "headersVertical": false,
        "rendererForColumn": {},
        "rendererForType": {},
        "stringFormatForColumn": {},
        "stringFormatForTimes": null,
        "stringFormatForType": {},
        "subtype": "ListOfMaps",
        "timeZone": null,
        "tooManyRows": false,
        "tooltips": [],
        "type": "TableDisplay",
        "types": [
         "string",
         "string",
         "string"
        ],
        "values": [
         [
          "http://statistics.gov.scot/data/household-waste",
          "Generation and Management of Household Waste",
          "SEPA"
         ],
         [
          "http://statistics.gov.scot/data/historical-population-estimates",
          "Historical Population Estimates (pre-2001, historical geographic boundaries)",
          "National Records of Scotland"
         ],
         [
          "http://statistics.gov.scot/data/population-estimates",
          "Mid-Year Population Estimates (historical geographical boundaries)",
          "National Records of Scotland"
         ],
         [
          "http://statistics.gov.scot/data/population-estimates-current-geographic-boundaries",
          "Population Estimates (Current Geographic Boundaries)",
          "National Records of Scotland"
         ],
         [
          "http://statistics.gov.scot/data/population-estimates-historical-geographic-boundaries",
          "Population Estimates (Historical Geographic Boundaries)",
          "National Records of Scotland"
         ],
         [
          "http://statistics.gov.scot/data/census-population-2001",
          "Population Estimates - Census 2001",
          "National Records of Scotland"
         ],
         [
          "http://statistics.gov.scot/data/population-projections",
          "Population Projections (2016-based)",
          "National Records of Scotland"
         ],
         [
          "http://statistics.gov.scot/data/population-projections-2018-based",
          "Population Projections (2018-based)",
          "National Records of Scotland"
         ],
         [
          "http://statistics.gov.scot/data/settlements-and-localities-population",
          "Settlements and Localities Population",
          "National Records of Scotland"
         ]
        ]
       }
      }
     },
     "c5fff6dc-4f3f-466a-93c0-64854b29a862": {
      "model_module": "@jupyter-widgets/base",
      "model_module_version": "*",
      "model_name": "LayoutModel",
      "state": {
       "_model_module_version": "*",
       "_view_module_version": "*",
       "align_content": "",
       "align_self": "",
       "border": "",
       "bottom": "",
       "flex": "",
       "height": "",
       "justify_content": "",
       "left": "",
       "margin": "",
       "max_height": "",
       "max_width": "",
       "min_height": "",
       "min_width": "",
       "msg_throttle": 3,
       "overflow": "",
       "overflow_x": "",
       "overflow_y": "",
       "padding": "",
       "right": "",
       "top": ""
      }
     },
     "c9d5bc60-fefb-4e7d-a793-5813de57697c": {
      "model_module": "beakerx",
      "model_module_version": "*",
      "model_name": "PlotModel",
      "state": {
       "model": {
        "auto_zoom": false,
        "chart_title": "Waste generated per council-citizen per year",
        "constant_bands": [],
        "constant_lines": [],
        "crosshair": null,
        "custom_styles": [],
        "domain_axis_label": "Year",
        "element_styles": {},
        "graphics_list": [
         {
          "display_name": "Falkirk",
          "hasClickAction": false,
          "type": "Line",
          "uid": "817463de-1863-4784-a87b-da79918888b4",
          "visible": true,
          "width": 1.5,
          "x": [
           1325289600000,
           1356912000000,
           1388448000000,
           1419984000000,
           1451520000000,
           1483142400000,
           1514678400000,
           1546214400000
          ],
          "y": [
           "0.5003328",
           "0.485401785714285714285714",
           "0.457813693051667090862815",
           "0.466865368761494070644936",
           "0.456449577180360974378392",
           "0.450389007403689296022086",
           "0.466189970648847811153438",
           "0.427659972558313583634776"
          ],
          "yAxis": null
         },
         {
          "display_name": "South Ayrshire",
          "hasClickAction": false,
          "type": "Line",
          "uid": "90601883-b37b-41c3-94dd-925150c1c2af",
          "visible": true,
          "width": 1.5,
          "x": [
           1325289600000,
           1356912000000,
           1388448000000,
           1419984000000,
           1451520000000,
           1483142400000,
           1514678400000,
           1546214400000
          ],
          "y": [
           "0.517622588068684722959816",
           "0.51033475026567481402763",
           "0.491033932843093824754142",
           "0.492997422909446369856927",
           "0.49513345195729537366548",
           "0.502222814972881657330844",
           "0.503833865814696485623003",
           "0.495904042647712127943136"
          ],
          "yAxis": null
         },
         {
          "display_name": "Aberdeenshire",
          "hasClickAction": false,
          "type": "Line",
          "uid": "9b01ba15-737e-4dcf-b68d-d5779541be28",
          "visible": true,
          "width": 1.5,
          "x": [
           1325289600000,
           1356912000000,
           1388448000000,
           1419984000000,
           1451520000000,
           1483142400000,
           1514678400000,
           1546214400000
          ],
          "y": [
           "0.583686181746501084171102",
           "0.527109093754891219283143",
           "0.511343445707413585754743",
           "0.5043142824242889494492",
           "0.497209497633226446785769",
           "0.502929173500133490979824",
           "0.487517188693659281894576",
           "0.46092859601483917849084"
          ],
          "yAxis": null
         },
         {
          "display_name": "Aberdeen City",
          "hasClickAction": false,
          "type": "Line",
          "uid": "52d7f1e3-2b5b-49d9-bb05-2dce0f9b57d0",
          "visible": true,
          "width": 1.5,
          "x": [
           1325289600000,
           1356912000000,
           1388448000000,
           1419984000000,
           1451520000000,
           1483142400000,
           1514678400000,
           1546214400000
          ],
          "y": [
           "0.436860559201654229973928",
           "0.432306255835667600373483",
           "0.414484520192011274056458",
           "0.419928359252140485759217",
           "0.413462122856522682873888",
           "0.418217020536025060911939",
           "0.38368006993006993006993",
           "0.375900861311302513622781"
          ],
          "yAxis": null
         },
         {
          "display_name": "Renfrewshire",
          "hasClickAction": false,
          "type": "Line",
          "uid": "009a83b4-abd1-4bd6-8c52-d6c187faf5af",
          "visible": true,
          "width": 1.5,
          "x": [
           1325289600000,
           1356912000000,
           1388448000000,
           1419984000000,
           1451520000000,
           1483142400000,
           1514678400000,
           1546214400000
          ],
          "y": [
           "0.472644533485975958786491",
           "0.471176133103843947217441",
           "0.45095750186899764218759",
           "0.464087700166446650978592",
           "0.475819202566452795600367",
           "0.475535724435855169669755",
           "0.472351976474580105185772",
           "0.457027954328139940379099"
          ],
          "yAxis": null
         },
         {
          "display_name": "Glasgow City",
          "hasClickAction": false,
          "type": "Line",
          "uid": "324b87dd-dd83-4ec9-96fc-66ce7c48cbae",
          "visible": true,
          "width": 1.5,
          "x": [
           1325289600000,
           1356912000000,
           1388448000000,
           1419984000000,
           1451520000000,
           1483142400000,
           1514678400000,
           1546214400000
          ],
          "y": [
           "0.422738002900212457424207",
           "0.393582267632379383938024",
           "0.382116274391470529068598",
           "0.374371289440330865185778",
           "0.365969588019922815582017",
           "0.352598891183117368754776",
           "0.361540691121058903094908",
           "0.391625293338228955476445"
          ],
          "yAxis": null
         },
         {
          "display_name": "Orkney Islands",
          "hasClickAction": false,
          "type": "Line",
          "uid": "d9e78ef4-059a-46b0-bb5c-a32cfd4a73a6",
          "visible": true,
          "width": 1.5,
          "x": [
           1325289600000,
           1356912000000,
           1388448000000,
           1419984000000,
           1451520000000,
           1483142400000,
           1514678400000,
           1546214400000
          ],
          "y": [
           "0.478758169934640522875817",
           "0.475290292614955875522527",
           "0.460250463821892393320965",
           "0.489712696941612604263207",
           "0.432441162898015689893862",
           "0.473638443935926773455378",
           "0.490818181818181818181818",
           "0.460612888688598467778279"
          ],
          "yAxis": null
         },
         {
          "display_name": "East Renfrewshire",
          "hasClickAction": false,
          "type": "Line",
          "uid": "a7c3e4d1-59f5-475c-a1ae-722db35da4aa",
          "visible": true,
          "width": 1.5,
          "x": [
           1325289600000,
           1356912000000,
           1388448000000,
           1419984000000,
           1451520000000,
           1483142400000,
           1514678400000,
           1546214400000
          ],
          "y": [
           "0.497643431340160775245017",
           "0.483150263620386643233743",
           "0.481339451545941221457446",
           "0.500205605453955199653717",
           "0.5044114482461803313966",
           "0.508730412535976974736169",
           "0.501941747572815533980583",
           "0.461563517915309446254072"
          ],
          "yAxis": null
         },
         {
          "display_name": "City of Edinburgh",
          "hasClickAction": false,
          "type": "Line",
          "uid": "729b492f-5674-41a5-ae6c-10373fb84115",
          "visible": true,
          "width": 1.5,
          "x": [
           1325289600000,
           1356912000000,
           1388448000000,
           1419984000000,
           1451520000000,
           1483142400000,
           1514678400000,
           1546214400000
          ],
          "y": [
           "0.396905469305770598819936",
           "0.388943911484988500507635",
           "0.378205391211586591720346",
           "0.38473640405188688820771",
           "0.380052525009522663940178",
           "0.381199597768006782735572",
           "0.39110695426823327682625",
           "0.372885245901639344262295"
          ],
          "yAxis": null
         },
         {
          "display_name": "Fife",
          "hasClickAction": false,
          "type": "Line",
          "uid": "173edb01-ef25-482b-8f3a-076853bfb137",
          "visible": true,
          "width": 1.5,
          "x": [
           1325289600000,
           1356912000000,
           1388448000000,
           1419984000000,
           1451520000000,
           1483142400000,
           1514678400000,
           1546214400000
          ],
          "y": [
           "0.587330960854092526690391",
           "0.534106113978318451161902",
           "0.519989097846824747887708",
           "0.512490129339686861810756",
           "0.519324603347098456857205",
           "0.506969459671104150352388",
           "0.480541719393661990791847",
           "0.449982522653330106746256"
          ],
          "yAxis": null
         },
         {
          "display_name": "East Dunbartonshire",
          "hasClickAction": false,
          "type": "Line",
          "uid": "45df791f-71f1-4c58-8515-575072412d72",
          "visible": true,
          "width": 1.5,
          "x": [
           1325289600000,
           1356912000000,
           1388448000000,
           1419984000000,
           1451520000000,
           1483142400000,
           1514678400000,
           1546214400000
          ],
          "y": [
           "0.561885714285714285714286",
           "0.52166603702304495655459",
           "0.491288737717309145880574",
           "0.495707993627588792053228",
           "0.506647344801795063575168",
           "0.519360238050957783150456",
           "0.522010542865069823360769",
           "0.476719283670266777439306"
          ],
          "yAxis": null
         },
         {
          "display_name": "North Ayrshire",
          "hasClickAction": false,
          "type": "Line",
          "uid": "d9e71363-f981-412a-bf93-f59560899871",
          "visible": true,
          "width": 1.5,
          "x": [
           1325289600000,
           1356912000000,
           1388448000000,
           1419984000000,
           1451520000000,
           1483142400000,
           1514678400000,
           1546214400000
          ],
          "y": [
           "0.494691867622564993844594",
           "0.456022388602166169949844",
           "0.452095808383233532934132",
           "0.47673651817116060961313",
           "0.471556600308528612355836",
           "0.469777025535359481933917",
           "0.463612931732822740997128",
           "0.454028681253696037847428"
          ],
          "yAxis": null
         },
         {
          "display_name": "North Lanarkshire",
          "hasClickAction": false,
          "type": "Line",
          "uid": "4ad41be5-541e-4499-9974-8884ea9c748d",
          "visible": true,
          "width": 1.5,
          "x": [
           1325289600000,
           1356912000000,
           1388448000000,
           1419984000000,
           1451520000000,
           1483142400000,
           1514678400000,
           1546214400000
          ],
          "y": [
           "0.474493663389790358877176",
           "0.461206309745775252301045",
           "0.452143406951270057433833",
           "0.444701183431952662721893",
           "0.460997457577011766097085",
           "0.474127110403960045964819",
           "0.461268972820331803741617",
           "0.429698982891410429772473"
          ],
          "yAxis": null
         },
         {
          "display_name": "East Lothian",
          "hasClickAction": false,
          "type": "Line",
          "uid": "1bbf8958-b05c-4f55-b69c-8422564266e1",
          "visible": true,
          "width": 1.5,
          "x": [
           1325289600000,
           1356912000000,
           1388448000000,
           1419984000000,
           1451520000000,
           1483142400000,
           1514678400000,
           1546214400000
          ],
          "y": [
           "0.532055644515612489991994",
           "0.519066032123735871505057",
           "0.48658644836768912121511",
           "0.51581937506122049172299",
           "0.493993207180980106744299",
           "0.488750120088385051397829",
           "0.482754673788630293781",
           "0.473901124870025522261083"
          ],
          "yAxis": null
         },
         {
          "display_name": "Argyll and Bute",
          "hasClickAction": false,
          "type": "Line",
          "uid": "6a0317ee-6893-4ca0-8b6c-40c736ecea8c",
          "visible": true,
          "width": 1.5,
          "x": [
           1325289600000,
           1356912000000,
           1388448000000,
           1419984000000,
           1451520000000,
           1483142400000,
           1514678400000,
           1546214400000
          ],
          "y": [
           "0.520645451478691105363769",
           "0.558152111379588079622598",
           "0.559273140261215218625781",
           "0.597364517969195664575014",
           "0.596696973184486131890897",
           "0.616194192585791346264203",
           "0.581004492569980417002649",
           "0.55613262230466032923719"
          ],
          "yAxis": null
         },
         {
          "display_name": "Angus",
          "hasClickAction": false,
          "type": "Line",
          "uid": "f71fb272-a35a-482b-830e-29d19ffad471",
          "visible": true,
          "width": 1.5,
          "x": [
           1325289600000,
           1356912000000,
           1388448000000,
           1419984000000,
           1451520000000,
           1483142400000,
           1514678400000,
           1546214400000
          ],
          "y": [
           "0.535283993115318416523236",
           "0.523171571158148339356393",
           "0.466574941955456187118411",
           "0.504471475072811375706699",
           "0.492805816937553464499572",
           "0.505037761757638173704085",
           "0.483986928104575163398693",
           "0.470691140985866942433644"
          ],
          "yAxis": null
         },
         {
          "display_name": "Dumfries and Galloway",
          "hasClickAction": false,
          "type": "Line",
          "uid": "6122aac7-21c7-4e3b-ab72-3b7b09d17b32",
          "visible": true,
          "width": 1.5,
          "x": [
           1325289600000,
           1356912000000,
           1388448000000,
           1419984000000,
           1451520000000,
           1483142400000,
           1514678400000,
           1546214400000
          ],
          "y": [
           "0.539066111881645862228387",
           "0.515175019888623707239459",
           "0.502402182592494011179132",
           "0.509829287810082688716991",
           "0.495035745306340616021915",
           "0.533754681647940074906367",
           "0.511320375335120643431635",
           "0.533133947173869211640567"
          ],
          "yAxis": null
         },
         {
          "display_name": "Shetland Islands",
          "hasClickAction": false,
          "type": "Line",
          "uid": "49a50320-7dbb-4186-9015-33dd6972372f",
          "visible": true,
          "width": 1.5,
          "x": [
           1325289600000,
           1356912000000,
           1388448000000,
           1419984000000,
           1451520000000,
           1483142400000,
           1514678400000,
           1546214400000
          ],
          "y": [
           "0.50740103270223752151463",
           "0.467858681602757432141318",
           "0.437068965517241379310345",
           "0.428165374677002583979328",
           "0.441810344827586206896552",
           "0.43086206896551724137931",
           "0.42261698440207972270364",
           "0.419704219225750326228795"
          ],
          "yAxis": null
         },
         {
          "display_name": "Stirling",
          "hasClickAction": false,
          "type": "Line",
          "uid": "532f586c-fedf-4240-b8a1-72f5e4d2578c",
          "visible": true,
          "width": 1.5,
          "x": [
           1325289600000,
           1356912000000,
           1388448000000,
           1419984000000,
           1451520000000,
           1483142400000,
           1514678400000,
           1546214400000
          ],
          "y": [
           "0.48736853758441270895605",
           "0.474563234809361608614438",
           "0.437608242902553984434945",
           "0.443127185314685314685315",
           "0.451675105030701281913175",
           "0.472224",
           "0.433765957446808510638298",
           "0.444450333934061274249973"
          ],
          "yAxis": null
         },
         {
          "display_name": "South Lanarkshire",
          "hasClickAction": false,
          "type": "Line",
          "uid": "6a0cf391-1def-40e9-a793-abe8ffef91d6",
          "visible": true,
          "width": 1.5,
          "x": [
           1325289600000,
           1356912000000,
           1388448000000,
           1419984000000,
           1451520000000,
           1483142400000,
           1514678400000,
           1546214400000
          ],
          "y": [
           "0.519955399808856323669959",
           "0.483323258995323386250119",
           "0.459750325593214955052254",
           "0.486812559467174119885823",
           "0.479574992884925528887202",
           "0.48103122043519394512772",
           "0.476914856837539680045259",
           "0.471663218606983888157482"
          ],
          "yAxis": null
         },
         {
          "display_name": "Na h-Eileanan Siar",
          "hasClickAction": false,
          "type": "Line",
          "uid": "364020b8-0a9a-4128-b600-deabe4adfda0",
          "visible": true,
          "width": 1.5,
          "x": [
           1325289600000,
           1356912000000,
           1388448000000,
           1419984000000,
           1451520000000,
           1483142400000,
           1514678400000,
           1546214400000
          ],
          "y": [
           "0.59620801733477789815818",
           "0.518904208998548621190131",
           "0.464890510948905109489051",
           "0.494642201834862385321101",
           "0.517657923900997414111563",
           "0.556096654275092936802974",
           "0.536289424860853432282004",
           "0.533917256802087215803205"
          ],
          "yAxis": null
         },
         {
          "display_name": "Dundee City",
          "hasClickAction": false,
          "type": "Line",
          "uid": "f9b4be9d-29bb-432a-bd4f-14ab679d08f0",
          "visible": true,
          "width": 1.5,
          "x": [
           1325289600000,
           1356912000000,
           1388448000000,
           1419984000000,
           1451520000000,
           1483142400000,
           1514678400000,
           1546214400000
          ],
          "y": [
           "0.464456521739130434782609",
           "0.474374069562863716335093",
           "0.415158676569885212694126",
           "0.430284209815702423546884",
           "0.453289251737399635652115",
           "0.458609293855803601537735",
           "0.432701230583013919709502",
           "0.40855798319327731092437"
          ],
          "yAxis": null
         },
         {
          "display_name": "Perth and Kinross",
          "hasClickAction": false,
          "type": "Line",
          "uid": "44f300ad-b79e-4508-a67a-84b07ad95bea",
          "visible": true,
          "width": 1.5,
          "x": [
           1325289600000,
           1356912000000,
           1388448000000,
           1419984000000,
           1451520000000,
           1483142400000,
           1514678400000,
           1546214400000
          ],
          "y": [
           "0.544215185563500170241743",
           "0.507743332882090158386354",
           "0.502585098463828923326792",
           "0.503249848922312495803398",
           "0.508150470219435736677116",
           "0.522498009025749933634192",
           "0.494963600264725347452019",
           "0.474684380990151364928283"
          ],
          "yAxis": null
         },
         {
          "display_name": "East Ayrshire",
          "hasClickAction": false,
          "type": "Line",
          "uid": "45df4eff-a707-417c-94d2-6133092db163",
          "visible": true,
          "width": 1.5,
          "x": [
           1325289600000,
           1356912000000,
           1388448000000,
           1419984000000,
           1451520000000,
           1483142400000,
           1514678400000,
           1546214400000
          ],
          "y": [
           "0.497897139131143532480235",
           "0.479043428664548195225291",
           "0.476043453401943967981704",
           "0.461737492835503152378613",
           "0.461854825495657873177126",
           "0.461816693944353518821604",
           "0.457946531080859439068394",
           "0.436211424819435325016415"
          ],
          "yAxis": null
         },
         {
          "display_name": "Scotland",
          "hasClickAction": false,
          "type": "Line",
          "uid": "39d6e3ef-3bef-4790-a12b-a91cf07a4f5c",
          "visible": true,
          "width": 1.5,
          "x": [
           1325289600000,
           1356912000000,
           1388448000000,
           1419984000000,
           1451520000000,
           1483142400000,
           1514678400000,
           1546214400000
          ],
          "y": [
           "0.491850600954734994999906",
           "0.470678071364046973803071",
           "0.4528464440565347147925",
           "0.45993660707607150871419",
           "0.459479061976549413735343",
           "0.462371269450663311562159",
           "0.453624096740893673499484",
           "0.44229528695684154392159"
          ],
          "yAxis": null
         },
         {
          "display_name": "Inverclyde",
          "hasClickAction": false,
          "type": "Line",
          "uid": "61145023-9f6a-4aa5-9bb0-a21c76b19ce7",
          "visible": true,
          "width": 1.5,
          "x": [
           1325289600000,
           1356912000000,
           1388448000000,
           1419984000000,
           1451520000000,
           1483142400000,
           1514678400000,
           1546214400000
          ],
          "y": [
           "0.417840433390790445703029",
           "0.412046102367083901350849",
           "0.363243714214588000995768",
           "0.356189760921266741769934",
           "0.358402515723270440251572",
           "0.370932289034866093986862",
           "0.349987303199593702386998",
           "0.358630838131797824696097"
          ],
          "yAxis": null
         },
         {
          "display_name": "Highland",
          "hasClickAction": false,
          "type": "Line",
          "uid": "0dd91f86-c226-4a07-b592-a16b8f9f1330",
          "visible": true,
          "width": 1.5,
          "x": [
           1325289600000,
           1356912000000,
           1388448000000,
           1419984000000,
           1451520000000,
           1483142400000,
           1514678400000,
           1546214400000
          ],
          "y": [
           "0.539053839212821724745413",
           "0.541813731804714672162824",
           "0.539556948439445326922251",
           "0.563016989874721125793719",
           "0.558626286788261928153432",
           "0.557818290241512970140989",
           "0.553575984352410919295858",
           "0.542922645835102318077609"
          ],
          "yAxis": null
         },
         {
          "display_name": "Midlothian",
          "hasClickAction": false,
          "type": "Line",
          "uid": "aa37d0a4-4101-4070-9a28-6690a319cd38",
          "visible": true,
          "width": 1.5,
          "x": [
           1325289600000,
           1356912000000,
           1388448000000,
           1419984000000,
           1451520000000,
           1483142400000,
           1514678400000,
           1546214400000
          ],
          "y": [
           "0.525452366686638705811863",
           "0.506896961063627730294397",
           "0.47428874985243772872152",
           "0.472349802829969844583623",
           "0.481485295800434832360682",
           "0.481175939510213294210586",
           "0.474247974247974247974248",
           "0.458616159404423034814977"
          ],
          "yAxis": null
         },
         {
          "display_name": "Scottish Borders",
          "hasClickAction": false,
          "type": "Line",
          "uid": "0ed1e6da-ced4-4ee4-82b3-a6489a221c8a",
          "visible": true,
          "width": 1.5,
          "x": [
           1325289600000,
           1356912000000,
           1388448000000,
           1419984000000,
           1451520000000,
           1483142400000,
           1514678400000,
           1546214400000
          ],
          "y": [
           "0.472620302072356866877415",
           "0.464834681674287724234963",
           "0.449964875307341060765718",
           "0.438021746755524377411435",
           "0.43714811891607471717969",
           "0.453339736313629616694316",
           "0.464884367936011128499391",
           "0.455374338509586188947688"
          ],
          "yAxis": null
         },
         {
          "display_name": "West Dunbartonshire",
          "hasClickAction": false,
          "type": "Line",
          "uid": "28e4f6b8-b836-4b01-bd99-f603a998094a",
          "visible": true,
          "width": 1.5,
          "x": [
           1325289600000,
           1356912000000,
           1388448000000,
           1419984000000,
           1451520000000,
           1483142400000,
           1514678400000,
           1546214400000
          ],
          "y": [
           "0.454342787771769120406136",
           "0.431082576931591764445428",
           "0.403184855233853006681514",
           "0.449648868576524356259057",
           "0.503270454291773635450385",
           "0.500066770531938571110617",
           "0.486006026113157013726147",
           "0.469729608437114327386963"
          ],
          "yAxis": null
         },
         {
          "display_name": "Clackmannanshire",
          "hasClickAction": false,
          "type": "Line",
          "uid": "6fb5fe9a-948b-4f9d-b3f3-a4d33178bb2e",
          "visible": true,
          "width": 1.5,
          "x": [
           1325289600000,
           1356912000000,
           1388448000000,
           1419984000000,
           1451520000000,
           1483142400000,
           1514678400000,
           1546214400000
          ],
          "y": [
           "0.594135922330097087378641",
           "0.540873634945397815912637",
           "0.522952418096723868954758",
           "0.523266262941980855635866",
           "0.518321651090342679127726",
           "0.527575462512171372930867",
           "0.528688046647230320699708",
           "0.508210116731517509727626"
          ],
          "yAxis": null
         },
         {
          "display_name": "Moray",
          "hasClickAction": false,
          "type": "Line",
          "uid": "667f3543-7272-4363-9367-0aae98b74ac5",
          "visible": true,
          "width": 1.5,
          "x": [
           1325289600000,
           1356912000000,
           1388448000000,
           1419984000000,
           1451520000000,
           1483142400000,
           1514678400000,
           1546214400000
          ],
          "y": [
           "0.559901572697122071252808",
           "0.536791133110943721080383",
           "0.503740991945739720220432",
           "0.537110900073863036826",
           "0.524719924615223536802429",
           "0.540751535338815447069845",
           "0.533409897682188348298183",
           "0.497508375209380234505863"
          ],
          "yAxis": null
         },
         {
          "display_name": "West Lothian",
          "hasClickAction": false,
          "type": "Line",
          "uid": "e72df949-85d8-4cab-bf5c-e6a0f961f432",
          "visible": true,
          "width": 1.5,
          "x": [
           1325289600000,
           1356912000000,
           1388448000000,
           1419984000000,
           1451520000000,
           1483142400000,
           1514678400000,
           1546214400000
          ],
          "y": [
           "0.4277010838562464346834",
           "0.412090222146468950627805",
           "0.400051089918256130790191",
           "0.41477426636568848758465",
           "0.414348921870624474936992",
           "0.418797535113529117859324",
           "0.391875792840990568639347",
           "0.407345997584275831777753"
          ],
          "yAxis": null
         }
        ],
        "init_height": 480,
        "init_width": 640,
        "legend_layout": "VERTICAL",
        "legend_position": {
         "position": "TOP_RIGHT",
         "type": "LegendPosition"
        },
        "log_x": false,
        "log_y": false,
        "numberOfPoints": 8,
        "omit_checkboxes": false,
        "outputPointsLimit": 1000000,
        "outputPointsPreviewNumber": 10000,
        "rangeAxes": [
         {
          "auto_range": true,
          "auto_range_includes_zero": false,
          "label": "Tonnage",
          "log_base": 10,
          "lower_bound": 0,
          "lower_margin": 0,
          "type": "YAxis",
          "upper_bound": 0,
          "upper_margin": 0,
          "use_log": false
         }
        ],
        "rasters": [],
        "show_legend": null,
        "texts": [],
        "timezone": null,
        "tips": {},
        "type": "TimePlot",
        "use_tool_tip": true,
        "x_auto_range": true,
        "x_log_base": 10,
        "x_lower_bound": 0,
        "x_lower_margin": 0.05,
        "x_tickLabels_visible": true,
        "x_upper_bound": 0,
        "x_upper_margin": 0.05,
        "y_auto_range": true,
        "y_auto_range_includes_zero": false,
        "y_label": "Tonnage",
        "y_lower_bound": 0,
        "y_lower_margin": 0,
        "y_tickLabels_visible": true,
        "y_upper_bound": 0,
        "y_upper_margin": 0
       }
      }
     },
     "cdc8ff72-5c19-439b-b195-57ab2569becc": {
      "model_module": "@jupyter-widgets/base",
      "model_module_version": "*",
      "model_name": "LayoutModel",
      "state": {
       "_model_module_version": "*",
       "_view_module_version": "*",
       "align_content": "",
       "align_self": "",
       "border": "",
       "bottom": "",
       "flex": "",
       "height": "",
       "justify_content": "",
       "left": "",
       "margin": "",
       "max_height": "",
       "max_width": "",
       "min_height": "",
       "min_width": "",
       "msg_throttle": 3,
       "overflow": "",
       "overflow_x": "",
       "overflow_y": "",
       "padding": "",
       "right": "",
       "top": ""
      }
     },
     "d32aac4e-3b36-410e-b9a0-9dcbe79f5f4b": {
      "model_module": "beakerx",
      "model_module_version": "*",
      "model_name": "FoldoutModel",
      "state": {
       "background_color": null,
       "children": [
        "IPY_MODEL_48e29b49-5847-4607-ab61-8f29a1473d16"
       ],
       "color": null,
       "description": "",
       "disabled": false,
       "font_family": "",
       "font_size": "",
       "font_style": "",
       "font_weight": "",
       "headerLabel": "Added jars: ",
       "hidePreview": false,
       "layout": "IPY_MODEL_ab8a1050-228f-4ea4-9510-248fe9db795f",
       "msg_throttle": 3,
       "visible": true
      }
     },
     "d7763bb9-cfcf-4b44-9192-566d871666d3": {
      "model_module": "beakerx",
      "model_module_version": "*",
      "model_name": "BxHTMLModel",
      "state": {
       "background_color": null,
       "color": null,
       "font_family": "",
       "font_size": "",
       "font_style": "",
       "font_weight": "",
       "layout": "IPY_MODEL_c5fff6dc-4f3f-466a-93c0-64854b29a862",
       "msg_throttle": 3,
       "placeholder": "",
       "value": "data.csv-1.0.0.jar, clojure-1.4.0.jar",
       "visible": true
      }
     },
     "e2c4ab62-6616-4744-b7b1-06234adee5ca": {
      "model_module": "beakerx",
      "model_module_version": "*",
      "model_name": "TableDisplayModel",
      "state": {
       "model": {
        "alignmentForColumn": {},
        "alignmentForType": {},
        "cellHighlighters": [],
        "columnNames": [
         ":dataset",
         ":name",
         ":publisherLabel"
        ],
        "columnOrder": [],
        "columnsFrozen": {},
        "columnsFrozenRight": {},
        "columnsVisible": {},
        "contextMenuItems": [],
        "contextMenuTags": {},
        "dataFontSize": null,
        "doubleClickTag": null,
        "fontColor": [],
        "hasDoubleClickAction": false,
        "hasIndex": null,
        "headerFontSize": null,
        "headersVertical": false,
        "rendererForColumn": {},
        "rendererForType": {},
        "stringFormatForColumn": {},
        "stringFormatForTimes": null,
        "stringFormatForType": {},
        "subtype": "ListOfMaps",
        "timeZone": null,
        "tooManyRows": false,
        "tooltips": [],
        "type": "TableDisplay",
        "types": [
         "string",
         "string",
         "string"
        ],
        "values": [
         [
          "http://statistics.gov.scot/data/household-waste",
          "Generation and Management of Household Waste",
          "SEPA"
         ],
         [
          "http://statistics.gov.scot/data/population-estimates",
          "Mid-Year Population Estimates (historical geographical boundaries)",
          "National Records of Scotland"
         ]
        ]
       }
      }
     },
     "f0d13236-33e8-4f50-8e40-d05d1ad2179c": {
      "model_module": "beakerx",
      "model_module_version": "*",
      "model_name": "TableDisplayModel",
      "state": {
       "model": {
        "alignmentForColumn": {},
        "alignmentForType": {},
        "cellHighlighters": [],
        "columnNames": [
         ":dataset",
         ":name",
         ":publisherLabel"
        ],
        "columnOrder": [],
        "columnsFrozen": {},
        "columnsFrozenRight": {},
        "columnsVisible": {},
        "contextMenuItems": [],
        "contextMenuTags": {},
        "dataFontSize": null,
        "doubleClickTag": null,
        "fontColor": [],
        "hasDoubleClickAction": false,
        "hasIndex": null,
        "headerFontSize": null,
        "headersVertical": false,
        "rendererForColumn": {},
        "rendererForType": {},
        "stringFormatForColumn": {},
        "stringFormatForTimes": null,
        "stringFormatForType": {},
        "subtype": "ListOfMaps",
        "timeZone": null,
        "tooManyRows": false,
        "tooltips": [],
        "type": "TableDisplay",
        "types": [
         "string",
         "string",
         "string"
        ],
        "values": [
         [
          "http://statistics.gov.scot/data/household-waste",
          "Generation and Management of Household Waste",
          "SEPA"
         ],
         [
          "http://statistics.gov.scot/data/population-estimates-current-geographic-boundaries",
          "Population Estimates (Current Geographic Boundaries)",
          "National Records of Scotland"
         ]
        ]
       }
      }
     }
    },
    "version_major": 2,
    "version_minor": 0
   }
  }
 },
 "nbformat": 4,
 "nbformat_minor": 2
}
